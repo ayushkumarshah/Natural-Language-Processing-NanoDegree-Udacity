{
 "cells": [
  {
   "cell_type": "markdown",
   "metadata": {
    "collapsed": true
   },
   "source": [
    "# Artificial Intelligence Nanodegree\n",
    "## Machine Translation Project\n",
    "In this notebook, sections that end with **'(IMPLEMENTATION)'** in the header indicate that the following blocks of code will require additional functionality which you must provide. Please be sure to read the instructions carefully!\n",
    "\n",
    "## Introduction\n",
    "In this notebook, you will build a deep neural network that functions as part of an end-to-end machine translation pipeline. Your completed pipeline will accept English text as input and return the French translation.\n",
    "\n",
    "- **Preprocess** - You'll convert text to sequence of integers.\n",
    "- **Models** Create models which accepts a sequence of integers as input and returns a probability distribution over possible translations. After learning about the basic types of neural networks that are often used for machine translation, you will engage in your own investigations, to design your own model!\n",
    "- **Prediction** Run the model on English text."
   ]
  },
  {
   "cell_type": "code",
   "execution_count": 1,
   "metadata": {},
   "outputs": [],
   "source": [
    "%load_ext autoreload\n",
    "%aimport helper, tests\n",
    "%autoreload 1"
   ]
  },
  {
   "cell_type": "code",
   "execution_count": 2,
   "metadata": {},
   "outputs": [
    {
     "name": "stderr",
     "output_type": "stream",
     "text": [
      "Using TensorFlow backend.\n"
     ]
    }
   ],
   "source": [
    "import collections\n",
    "\n",
    "import helper\n",
    "import numpy as np\n",
    "import project_tests as tests\n",
    "\n",
    "from keras.preprocessing.text import Tokenizer\n",
    "from keras.preprocessing.sequence import pad_sequences\n",
    "from keras.models import Model\n",
    "from keras.layers import GRU, Input, Dense, TimeDistributed, Activation, RepeatVector, Bidirectional\n",
    "from keras.layers.embeddings import Embedding\n",
    "from keras.optimizers import Adam\n",
    "from keras.losses import sparse_categorical_crossentropy"
   ]
  },
  {
   "cell_type": "markdown",
   "metadata": {},
   "source": [
    "### Verify access to the GPU\n",
    "The following test applies only if you expect to be using a GPU, e.g., while running in a Udacity Workspace or using an AWS instance with GPU support. Run the next cell, and verify that the device_type is \"GPU\".\n",
    "- If the device is not GPU & you are running from a Udacity Workspace, then save your workspace with the icon at the top, then click \"enable\" at the bottom of the workspace.\n",
    "- If the device is not GPU & you are running from an AWS instance, then refer to the cloud computing instructions in the classroom to verify your setup steps."
   ]
  },
  {
   "cell_type": "code",
   "execution_count": 3,
   "metadata": {},
   "outputs": [
    {
     "name": "stdout",
     "output_type": "stream",
     "text": [
      "altair==1.2.1\n",
      "asn1crypto==0.22.0\n",
      "atari-py==0.1.7\n",
      "atomicwrites==1.3.0\n",
      "attrs==19.1.0\n",
      "audioread==2.1.6\n",
      "av==0.3.3\n",
      "awscli==1.16.17\n",
      "backcall==0.1.0\n",
      "backports.functools-lru-cache==1.4\n",
      "backports.weakref==1.0rc1\n",
      "beautifulsoup4==4.6.0\n",
      "bleach==1.5.0\n",
      "blinker==1.4\n",
      "bokeh==0.12.13\n",
      "boto==2.48.0\n",
      "boto3==1.9.7\n",
      "botocore==1.12.7\n",
      "Box2D==2.3.2\n",
      "Box2D-kengz==2.3.3\n",
      "bresenham==0.2\n",
      "bz2file==0.98\n",
      "cassandra-driver==3.11.0\n",
      "certifi==2019.11.28\n",
      "cffi==1.11.2\n",
      "chardet==3.0.4\n",
      "click==6.7\n",
      "cloudpickle==0.2.2\n",
      "colorama==0.3.9\n",
      "colour==0.1.5\n",
      "conda==4.6.14\n",
      "cryptography==2.1.4\n",
      "cycler==0.10.0\n",
      "Cython==0.29.7\n",
      "cytoolz==0.9.0.1\n",
      "dask==0.16.1\n",
      "decorator==4.0.11\n",
      "defusedxml==0.5.0\n",
      "dill==0.2.7.1\n",
      "docutils==0.14\n",
      "dronekit==2.9.2\n",
      "entrypoints==0.2.3\n",
      "et-xmlfile==1.0.1\n",
      "eventlet==0.22.0\n",
      "fastcache==1.0.2\n",
      "Flask==0.12.2\n",
      "Flask-SocketIO==2.9.2\n",
      "future==0.16.0\n",
      "gensim==3.4.0\n",
      "glfw==1.8.0\n",
      "greenlet==0.4.12\n",
      "gym==0.9.6\n",
      "h5py==2.7.1\n",
      "heapdict==1.0.0\n",
      "html2text==2018.1.9\n",
      "html5lib==0.9999999\n",
      "idna==2.6\n",
      "imageio==2.1.2\n",
      "ipykernel==4.9.0\n",
      "ipython==6.5.0\n",
      "ipython-genutils==0.2.0\n",
      "ipython-sql==0.3.9\n",
      "ipywidgets==7.0.5\n",
      "itsdangerous==0.24\n",
      "jdc==0.0.8\n",
      "jdcal==1.3\n",
      "jedi==0.10.2\n",
      "jieba==0.39\n",
      "Jinja2==2.10\n",
      "jmespath==0.9.3\n",
      "joblib==0.11\n",
      "json5==0.8.5\n",
      "jsonschema==2.6.0\n",
      "jupyter-client==5.2.4\n",
      "jupyter-core==4.4.0\n",
      "jupyterlab==1.0.9\n",
      "jupyterlab-server==1.0.0\n",
      "Keras==2.0.9\n",
      "librosa==0.5.1\n",
      "llvmlite==0.20.0\n",
      "locket==0.2.0\n",
      "lockfile==0.12.2\n",
      "lxml==4.1.1\n",
      "Mako==1.0.7\n",
      "Markdown==2.6.9\n",
      "MarkupSafe==1.0\n",
      "matplotlib==2.1.0\n",
      "mistune==0.8.3\n",
      "mock==2.0.0\n",
      "monotonic==1.3\n",
      "more-itertools==7.0.0\n",
      "moviepy==0.2.3.2\n",
      "msgpack==0.5.6\n",
      "msgpack-python==0.4.8\n",
      "mujoco-py==1.50.1.59\n",
      "nbconvert==5.4.0\n",
      "nbformat==4.4.0\n",
      "nbzip==0.1.0\n",
      "networkx==1.11\n",
      "nltk==3.2.5\n",
      "notebook==5.7.0\n",
      "numba==0.35.0\n",
      "numexpr==2.6.4\n",
      "numpy==1.12.1\n",
      "oauthlib==2.0.6\n",
      "olefile==0.44\n",
      "openpyxl==2.5.0b1\n",
      "packaging==16.8\n",
      "pandas==0.23.3\n",
      "pandocfilters==1.4.1\n",
      "parso==0.4.0\n",
      "partd==0.3.8\n",
      "patsy==0.4.1\n",
      "pbr==3.1.1\n",
      "pexpect==4.3.1\n",
      "pickleshare==0.7.4\n",
      "Pillow==5.2.0\n",
      "pinyin==0.4.0\n",
      "plotly==2.0.15\n",
      "pluggy==0.11.0\n",
      "pomegranate==0.9.0\n",
      "prettytable==0.7.2\n",
      "prometheus-client==0.3.1\n",
      "prompt-toolkit==1.0.15\n",
      "protobuf==3.5.1\n",
      "psutil==5.4.0\n",
      "psycopg2==2.7.4\n",
      "ptyprocess==0.5.2\n",
      "py==1.8.0\n",
      "py4j==0.10.7\n",
      "pyasn1==0.4.4\n",
      "pycosat==0.6.3\n",
      "pycparser==2.18\n",
      "pycurl==7.43.0\n",
      "pydot==1.2.4\n",
      "pydotplus==2.0.2\n",
      "pyglet==1.3.0\n",
      "Pygments==2.2.0\n",
      "pygpu==0.7.5\n",
      "PyJWT==1.5.3\n",
      "pymavlink==2.2.20\n",
      "pymc3==3.2\n",
      "PyOpenGL==3.1.0\n",
      "pyOpenSSL==17.4.0\n",
      "pyparsing==2.2.0\n",
      "pyrsistent==0.15.2\n",
      "PySocks==1.6.8\n",
      "pyspark==2.4.3\n",
      "pytest==4.5.0\n",
      "python-crfsuite==0.9.2\n",
      "python-dateutil==2.6.1\n",
      "python-engineio==2.0.2\n",
      "python-socketio==1.8.4\n",
      "python-speech-features==0.6\n",
      "pytz==2017.3\n",
      "PyWavelets==0.5.2\n",
      "PyYAML==3.12\n",
      "pyzmq==17.1.2\n",
      "requests==2.18.4\n",
      "requests-oauthlib==0.8.0\n",
      "requests-toolbelt==0.9.1\n",
      "resampy==0.2.0\n",
      "rsa==3.4.2\n",
      "ruamel-yaml==0.11.14\n",
      "s3transfer==0.1.13\n",
      "scikit-image==0.14.2\n",
      "scikit-learn==0.19.1\n",
      "scipy==1.2.1\n",
      "seaborn==0.8.1\n",
      "SeekWell==0.1\n",
      "Send2Trash==1.5.0\n",
      "Shapely==1.6.4.post1\n",
      "simplegeneric==0.8.1\n",
      "SimpleWebSocketServer==0.1.1\n",
      "six==1.11.0\n",
      "smart-open==1.5.6\n",
      "snownlp==0.12.3\n",
      "SoundFile==0.9.0.post1\n",
      "SQLAlchemy==1.1.13\n",
      "sqlparse==0.3.0\n",
      "statsmodels==0.8.0\n",
      "sympy==1.0\n",
      "tensorflow==1.3.0\n",
      "tensorflow-tensorboard==0.1.5\n",
      "terminado==0.8.1\n",
      "testpath==0.3.1\n",
      "Theano==1.0.1\n",
      "toolz==0.8.2\n",
      "torch==0.4.0\n",
      "torchvision==0.2.1\n",
      "tornado==4.5.3\n",
      "tqdm==4.11.2\n",
      "traitlets==4.3.2\n",
      "tweepy==3.5.0\n",
      "twython==3.6.0\n",
      "udacity-pa==0.2.7\n",
      "urllib3==1.22\n",
      "utm==0.4.2\n",
      "uvloop==0.8.1\n",
      "vega==0.4.4\n",
      "vincent==0.4.4\n",
      "wcwidth==0.1.7\n",
      "webencodings==0.5\n",
      "websockets==4.0.1\n",
      "Werkzeug==0.14.1\n",
      "widgetsnbextension==3.1.0\n",
      "wordcloud==1.4.1\n",
      "wptools==0.4.7\n",
      "xlrd==1.1.0\n"
     ]
    }
   ],
   "source": [
    "!pip freeze"
   ]
  },
  {
   "cell_type": "code",
   "execution_count": 4,
   "metadata": {},
   "outputs": [
    {
     "name": "stdout",
     "output_type": "stream",
     "text": [
      "[name: \"/cpu:0\"\n",
      "device_type: \"CPU\"\n",
      "memory_limit: 268435456\n",
      "locality {\n",
      "}\n",
      "incarnation: 12453984668100105158\n",
      ", name: \"/gpu:0\"\n",
      "device_type: \"GPU\"\n",
      "memory_limit: 357433344\n",
      "locality {\n",
      "  bus_id: 1\n",
      "}\n",
      "incarnation: 15126686336952107538\n",
      "physical_device_desc: \"device: 0, name: Tesla K80, pci bus id: 0000:00:04.0\"\n",
      "]\n"
     ]
    }
   ],
   "source": [
    "from tensorflow.python.client import device_lib\n",
    "print(device_lib.list_local_devices())"
   ]
  },
  {
   "cell_type": "markdown",
   "metadata": {},
   "source": [
    "## Dataset\n",
    "We begin by investigating the dataset that will be used to train and evaluate your pipeline.  The most common datasets used for machine translation are from [WMT](http://www.statmt.org/).  However, that will take a long time to train a neural network on.  We'll be using a dataset we created for this project that contains a small vocabulary.  You'll be able to train your model in a reasonable time with this dataset.\n",
    "### Load Data\n",
    "The data is located in `data/small_vocab_en` and `data/small_vocab_fr`. The `small_vocab_en` file contains English sentences with their French translations in the `small_vocab_fr` file. Load the English and French data from these files from running the cell below."
   ]
  },
  {
   "cell_type": "code",
   "execution_count": 5,
   "metadata": {},
   "outputs": [
    {
     "name": "stdout",
     "output_type": "stream",
     "text": [
      "Dataset Loaded\n"
     ]
    }
   ],
   "source": [
    "# Load English data\n",
    "english_sentences = helper.load_data('data/small_vocab_en')\n",
    "# Load French data\n",
    "french_sentences = helper.load_data('data/small_vocab_fr')\n",
    "\n",
    "print('Dataset Loaded')"
   ]
  },
  {
   "cell_type": "markdown",
   "metadata": {},
   "source": [
    "### Files\n",
    "Each line in `small_vocab_en` contains an English sentence with the respective translation in each line of `small_vocab_fr`.  View the first two lines from each file."
   ]
  },
  {
   "cell_type": "code",
   "execution_count": 6,
   "metadata": {},
   "outputs": [
    {
     "name": "stdout",
     "output_type": "stream",
     "text": [
      "small_vocab_en Line 1:  new jersey is sometimes quiet during autumn , and it is snowy in april .\n",
      "small_vocab_fr Line 1:  new jersey est parfois calme pendant l' automne , et il est neigeux en avril .\n",
      "small_vocab_en Line 2:  the united states is usually chilly during july , and it is usually freezing in november .\n",
      "small_vocab_fr Line 2:  les états-unis est généralement froid en juillet , et il gèle habituellement en novembre .\n"
     ]
    }
   ],
   "source": [
    "for sample_i in range(2):\n",
    "    print('small_vocab_en Line {}:  {}'.format(sample_i + 1, english_sentences[sample_i]))\n",
    "    print('small_vocab_fr Line {}:  {}'.format(sample_i + 1, french_sentences[sample_i]))"
   ]
  },
  {
   "cell_type": "code",
   "execution_count": 8,
   "metadata": {},
   "outputs": [],
   "source": [
    "# english_sentences"
   ]
  },
  {
   "cell_type": "markdown",
   "metadata": {},
   "source": [
    "From looking at the sentences, you can see they have been preprocessed already.  The puncuations have been delimited using spaces. All the text have been converted to lowercase.  This should save you some time, but the text requires more preprocessing.\n",
    "### Vocabulary\n",
    "The complexity of the problem is determined by the complexity of the vocabulary.  A more complex vocabulary is a more complex problem.  Let's look at the complexity of the dataset we'll be working with."
   ]
  },
  {
   "cell_type": "code",
   "execution_count": 10,
   "metadata": {},
   "outputs": [
    {
     "name": "stdout",
     "output_type": "stream",
     "text": [
      "1823250 English words.\n",
      "227 unique English words.\n",
      "10 Most common words in the English dataset:\n",
      "\"is\" \",\" \".\" \"in\" \"it\" \"during\" \"the\" \"but\" \"and\" \"sometimes\"\n",
      "\n",
      "1961295 French words.\n",
      "355 unique French words.\n",
      "10 Most common words in the French dataset:\n",
      "\"est\" \".\" \",\" \"en\" \"il\" \"les\" \"mais\" \"et\" \"la\" \"parfois\"\n"
     ]
    }
   ],
   "source": [
    "english_words_counter = collections.Counter([word for sentence in english_sentences for word in sentence.split()])\n",
    "french_words_counter = collections.Counter([word for sentence in french_sentences for word in sentence.split()])\n",
    "\n",
    "print('{} English words.'.format(len([word for sentence in english_sentences for word in sentence.split()])))\n",
    "print('{} unique English words.'.format(len(english_words_counter)))\n",
    "print('10 Most common words in the English dataset:')\n",
    "print('\"' + '\" \"'.join(list(zip(*english_words_counter.most_common(10)))[0]) + '\"')\n",
    "print()\n",
    "print('{} French words.'.format(len([word for sentence in french_sentences for word in sentence.split()])))\n",
    "print('{} unique French words.'.format(len(french_words_counter)))\n",
    "print('10 Most common words in the French dataset:')\n",
    "print('\"' + '\" \"'.join(list(zip(*french_words_counter.most_common(10)))[0]) + '\"')"
   ]
  },
  {
   "cell_type": "markdown",
   "metadata": {},
   "source": [
    "For comparison, _Alice's Adventures in Wonderland_ contains 2,766 unique words of a total of 15,500 words.\n",
    "## Preprocess\n",
    "For this project, you won't use text data as input to your model. Instead, you'll convert the text into sequences of integers using the following preprocess methods:\n",
    "1. Tokenize the words into ids\n",
    "2. Add padding to make all the sequences the same length.\n",
    "\n",
    "Time to start preprocessing the data...\n",
    "### Tokenize (IMPLEMENTATION)\n",
    "For a neural network to predict on text data, it first has to be turned into data it can understand. Text data like \"dog\" is a sequence of ASCII character encodings.  Since a neural network is a series of multiplication and addition operations, the input data needs to be number(s).\n",
    "\n",
    "We can turn each character into a number or each word into a number.  These are called character and word ids, respectively.  Character ids are used for character level models that generate text predictions for each character.  A word level model uses word ids that generate text predictions for each word.  Word level models tend to learn better, since they are lower in complexity, so we'll use those.\n",
    "\n",
    "Turn each sentence into a sequence of words ids using Keras's [`Tokenizer`](https://keras.io/preprocessing/text/#tokenizer) function. Use this function to tokenize `english_sentences` and `french_sentences` in the cell below.\n",
    "\n",
    "Running the cell will run `tokenize` on sample data and show output for debugging."
   ]
  },
  {
   "cell_type": "code",
   "execution_count": 11,
   "metadata": {},
   "outputs": [
    {
     "name": "stdout",
     "output_type": "stream",
     "text": [
      "{'the': 1, 'quick': 2, 'a': 3, 'brown': 4, 'fox': 5, 'jumps': 6, 'over': 7, 'lazy': 8, 'dog': 9, 'by': 10, 'jove': 11, 'my': 12, 'study': 13, 'of': 14, 'lexicography': 15, 'won': 16, 'prize': 17, 'this': 18, 'is': 19, 'short': 20, 'sentence': 21}\n",
      "\n",
      "Sequence 1 in x\n",
      "  Input:  The quick brown fox jumps over the lazy dog .\n",
      "  Output: [1, 2, 4, 5, 6, 7, 1, 8, 9]\n",
      "Sequence 2 in x\n",
      "  Input:  By Jove , my quick study of lexicography won a prize .\n",
      "  Output: [10, 11, 12, 2, 13, 14, 15, 16, 3, 17]\n",
      "Sequence 3 in x\n",
      "  Input:  This is a short sentence .\n",
      "  Output: [18, 19, 3, 20, 21]\n"
     ]
    }
   ],
   "source": [
    "def tokenize(x):\n",
    "    \"\"\"\n",
    "    Tokenize x\n",
    "    :param x: List of sentences/strings to be tokenized\n",
    "    :return: Tuple of (tokenized x data, tokenizer used to tokenize x)\n",
    "    \"\"\"\n",
    "    # TODO: Implement\n",
    "    x_tokenizer = Tokenizer()\n",
    "    x_tokenizer.fit_on_texts(x)\n",
    "    tokenized_x = x_tokenizer.texts_to_sequences(x) \n",
    "    return tokenized_x, x_tokenizer\n",
    "tests.test_tokenize(tokenize)\n",
    "\n",
    "# Tokenize Example output\n",
    "text_sentences = [\n",
    "    'The quick brown fox jumps over the lazy dog .',\n",
    "    'By Jove , my quick study of lexicography won a prize .',\n",
    "    'This is a short sentence .']\n",
    "text_tokenized, text_tokenizer = tokenize(text_sentences)\n",
    "print(text_tokenizer.word_index)\n",
    "print()\n",
    "for sample_i, (sent, token_sent) in enumerate(zip(text_sentences, text_tokenized)):\n",
    "    print('Sequence {} in x'.format(sample_i + 1))\n",
    "    print('  Input:  {}'.format(sent))\n",
    "    print('  Output: {}'.format(token_sent))"
   ]
  },
  {
   "cell_type": "markdown",
   "metadata": {},
   "source": [
    "### Padding (IMPLEMENTATION)\n",
    "When batching the sequence of word ids together, each sequence needs to be the same length.  Since sentences are dynamic in length, we can add padding to the end of the sequences to make them the same length.\n",
    "\n",
    "Make sure all the English sequences have the same length and all the French sequences have the same length by adding padding to the **end** of each sequence using Keras's [`pad_sequences`](https://keras.io/preprocessing/sequence/#pad_sequences) function."
   ]
  },
  {
   "cell_type": "code",
   "execution_count": 12,
   "metadata": {},
   "outputs": [
    {
     "data": {
      "text/plain": [
       "[[1, 2, 4, 5, 6, 7, 1, 8, 9],\n",
       " [10, 11, 12, 2, 13, 14, 15, 16, 3, 17],\n",
       " [18, 19, 3, 20, 21]]"
      ]
     },
     "execution_count": 12,
     "metadata": {},
     "output_type": "execute_result"
    }
   ],
   "source": [
    "text_tokenized"
   ]
  },
  {
   "cell_type": "code",
   "execution_count": 13,
   "metadata": {},
   "outputs": [
    {
     "name": "stdout",
     "output_type": "stream",
     "text": [
      "Sequence 1 in x\n",
      "  Input:  [1 2 4 5 6 7 1 8 9]\n",
      "  Output: [1 2 4 5 6 7 1 8 9 0]\n",
      "Sequence 2 in x\n",
      "  Input:  [10 11 12  2 13 14 15 16  3 17]\n",
      "  Output: [10 11 12  2 13 14 15 16  3 17]\n",
      "Sequence 3 in x\n",
      "  Input:  [18 19  3 20 21]\n",
      "  Output: [18 19  3 20 21  0  0  0  0  0]\n"
     ]
    }
   ],
   "source": [
    "def pad(x, length=None):\n",
    "    \"\"\"\n",
    "    Pad x\n",
    "    :param x: List of sequences.\n",
    "    :param length: Length to pad the sequence to.  If None, use length of longest sequence in x.\n",
    "    :return: Padded numpy array of sequences\n",
    "    \"\"\"\n",
    "    # TODO: Implement\n",
    "    if not length:\n",
    "        length = max([len(sentence) for sentence in x])\n",
    "        \n",
    "    return pad_sequences(x, maxlen=length, padding='post')\n",
    "tests.test_pad(pad)\n",
    "\n",
    "# Pad Tokenized output\n",
    "test_pad = pad(text_tokenized)\n",
    "for sample_i, (token_sent, pad_sent) in enumerate(zip(text_tokenized, test_pad)):\n",
    "    print('Sequence {} in x'.format(sample_i + 1))\n",
    "    print('  Input:  {}'.format(np.array(token_sent)))\n",
    "    print('  Output: {}'.format(pad_sent))"
   ]
  },
  {
   "cell_type": "markdown",
   "metadata": {},
   "source": [
    "### Preprocess Pipeline\n",
    "Your focus for this project is to build neural network architecture, so we won't ask you to create a preprocess pipeline.  Instead, we've provided you with the implementation of the `preprocess` function."
   ]
  },
  {
   "cell_type": "code",
   "execution_count": 19,
   "metadata": {},
   "outputs": [
    {
     "name": "stdout",
     "output_type": "stream",
     "text": [
      "Data Preprocessed\n",
      "Max English sentence length: 15\n",
      "Max French sentence length: 21\n",
      "English vocabulary size: 200\n",
      "French vocabulary size: 345\n"
     ]
    }
   ],
   "source": [
    "def preprocess(x, y):\n",
    "    \"\"\"\n",
    "    Preprocess x and y\n",
    "    :param x: Feature List of sentences\n",
    "    :param y: Label List of sentences\n",
    "    :return: Tuple of (Preprocessed x, Preprocessed y, x tokenizer, y tokenizer)\n",
    "    \"\"\"\n",
    "    preprocess_x, x_tk = tokenize(x)\n",
    "    preprocess_y, y_tk = tokenize(y)\n",
    "\n",
    "    preprocess_x = pad(preprocess_x)\n",
    "    preprocess_y = pad(preprocess_y)\n",
    "\n",
    "    # Keras's sparse_categorical_crossentropy function requires the labels to be in 3 dimensions\n",
    "    preprocess_y = preprocess_y.reshape(*preprocess_y.shape, 1)\n",
    "\n",
    "    return preprocess_x, preprocess_y, x_tk, y_tk\n",
    "\n",
    "preproc_english_sentences, preproc_french_sentences, english_tokenizer, french_tokenizer =\\\n",
    "    preprocess(english_sentences, french_sentences)\n",
    "    \n",
    "max_english_sequence_length = preproc_english_sentences.shape[1]\n",
    "max_french_sequence_length = preproc_french_sentences.shape[1]\n",
    "english_vocab_size = len(english_tokenizer.word_index) + 1\n",
    "french_vocab_size = len(french_tokenizer.word_index) + 1\n",
    "\n",
    "print('Data Preprocessed')\n",
    "print(\"Max English sentence length:\", max_english_sequence_length)\n",
    "print(\"Max French sentence length:\", max_french_sequence_length)\n",
    "print(\"English vocabulary size:\", english_vocab_size)\n",
    "print(\"French vocabulary size:\", french_vocab_size)"
   ]
  },
  {
   "cell_type": "markdown",
   "metadata": {},
   "source": [
    "## Models\n",
    "In this section, you will experiment with various neural network architectures.\n",
    "You will begin by training four relatively simple architectures.\n",
    "- Model 1 is a simple RNN\n",
    "- Model 2 is a RNN with Embedding\n",
    "- Model 3 is a Bidirectional RNN\n",
    "- Model 4 is an optional Encoder-Decoder RNN\n",
    "\n",
    "After experimenting with the four simple architectures, you will construct a deeper architecture that is designed to outperform all four models.\n",
    "### Ids Back to Text\n",
    "The neural network will be translating the input to words ids, which isn't the final form we want.  We want the French translation.  The function `logits_to_text` will bridge the gab between the logits from the neural network to the French translation.  You'll be using this function to better understand the output of the neural network."
   ]
  },
  {
   "cell_type": "code",
   "execution_count": 15,
   "metadata": {},
   "outputs": [
    {
     "name": "stdout",
     "output_type": "stream",
     "text": [
      "`logits_to_text` function loaded.\n"
     ]
    }
   ],
   "source": [
    "def logits_to_text(logits, tokenizer):\n",
    "    \"\"\"\n",
    "    Turn logits from a neural network into text using the tokenizer\n",
    "    :param logits: Logits from a neural network\n",
    "    :param tokenizer: Keras Tokenizer fit on the labels\n",
    "    :return: String that represents the text of the logits\n",
    "    \"\"\"\n",
    "    index_to_words = {id: word for word, id in tokenizer.word_index.items()}\n",
    "    index_to_words[0] = '<PAD>'\n",
    "\n",
    "    return ' '.join([index_to_words[prediction] for prediction in np.argmax(logits, 1)])\n",
    "\n",
    "print('`logits_to_text` function loaded.')"
   ]
  },
  {
   "cell_type": "markdown",
   "metadata": {},
   "source": [
    "### Model 1: RNN (IMPLEMENTATION)\n",
    "![RNN](images/rnn.png)\n",
    "A basic RNN model is a good baseline for sequence data.  In this model, you'll build a RNN that translates English to French."
   ]
  },
  {
   "cell_type": "code",
   "execution_count": 16,
   "metadata": {},
   "outputs": [],
   "source": [
    "def simple_model(input_shape, output_sequence_length, english_vocab_size, french_vocab_size):\n",
    "    \"\"\"\n",
    "    Build and train a basic RNN on x and y\n",
    "    :param input_shape: Tuple of input shape\n",
    "    :param output_sequence_length: Length of output sequence\n",
    "    :param english_vocab_size: Number of unique English words in the dataset\n",
    "    :param french_vocab_size: Number of unique French words in the dataset\n",
    "    :return: Keras model built, but not trained\n",
    "    \"\"\"\n",
    "    # TODO: Build the layers\n",
    "    learning_rate = 1e-3\n",
    "    \n",
    "    input_seq = Input(input_shape[1:])\n",
    "    rnn = GRU(64, return_sequences=True)(input_seq)\n",
    "    logits = TimeDistributed(Dense(french_vocab_size))(rnn)\n",
    "    model = Model(input_seq, Activation('softmax')(logits))\n",
    "    model.compile(loss=sparse_categorical_crossentropy,\n",
    "                  optimizer=Adam(learning_rate),\n",
    "                  metrics=['accuracy'])\n",
    "    return model\n",
    "tests.test_simple_model(simple_model)"
   ]
  },
  {
   "cell_type": "code",
   "execution_count": 17,
   "metadata": {},
   "outputs": [],
   "source": [
    "# Reshaping the input to work with a basic RNN\n",
    "tmp_x = pad(preproc_english_sentences, max_french_sequence_length)\n",
    "tmp_x = tmp_x.reshape((-1, preproc_french_sentences.shape[-2], 1))"
   ]
  },
  {
   "cell_type": "code",
   "execution_count": 20,
   "metadata": {},
   "outputs": [
    {
     "name": "stdout",
     "output_type": "stream",
     "text": [
      "Train on 110288 samples, validate on 27573 samples\n",
      "Epoch 1/10\n",
      "110288/110288 [==============================] - 8s 70us/step - loss: 3.5101 - acc: 0.4079 - val_loss: 2.5901 - val_acc: 0.4528\n",
      "Epoch 2/10\n",
      "110288/110288 [==============================] - 7s 67us/step - loss: 2.4577 - acc: 0.4677 - val_loss: 2.3174 - val_acc: 0.4883\n",
      "Epoch 3/10\n",
      "110288/110288 [==============================] - 7s 67us/step - loss: 2.1927 - acc: 0.5105 - val_loss: 2.0736 - val_acc: 0.5333\n",
      "Epoch 4/10\n",
      "110288/110288 [==============================] - 7s 67us/step - loss: 1.9842 - acc: 0.5471 - val_loss: 1.8998 - val_acc: 0.5671\n",
      "Epoch 5/10\n",
      "110288/110288 [==============================] - 7s 67us/step - loss: 1.8376 - acc: 0.5736 - val_loss: 1.7783 - val_acc: 0.5807\n",
      "Epoch 6/10\n",
      "110288/110288 [==============================] - 7s 67us/step - loss: 1.7332 - acc: 0.5838 - val_loss: 1.6891 - val_acc: 0.5978\n",
      "Epoch 7/10\n",
      "110288/110288 [==============================] - 7s 67us/step - loss: 1.6513 - acc: 0.5930 - val_loss: 1.6128 - val_acc: 0.5909\n",
      "Epoch 8/10\n",
      "110288/110288 [==============================] - 7s 67us/step - loss: 1.5829 - acc: 0.5965 - val_loss: 1.5539 - val_acc: 0.5976\n",
      "Epoch 9/10\n",
      "110288/110288 [==============================] - 7s 67us/step - loss: 1.5312 - acc: 0.6004 - val_loss: 1.5076 - val_acc: 0.6053\n",
      "Epoch 10/10\n",
      "110288/110288 [==============================] - 7s 67us/step - loss: 1.4884 - acc: 0.6055 - val_loss: 1.4686 - val_acc: 0.6072\n",
      "new jersey est parfois parfois en en mais il est est en en <PAD> <PAD> <PAD> <PAD> <PAD> <PAD> <PAD> <PAD>\n"
     ]
    }
   ],
   "source": [
    "# Train the neural network\n",
    "simple_rnn_model = simple_model(\n",
    "    tmp_x.shape,\n",
    "    max_french_sequence_length,\n",
    "    english_vocab_size,\n",
    "    french_vocab_size)\n",
    "simple_rnn_model.fit(tmp_x, preproc_french_sentences, batch_size=1024, epochs=10, validation_split=0.2)\n",
    "\n",
    "# Print prediction(s)\n",
    "print(logits_to_text(simple_rnn_model.predict(tmp_x[:1])[0], french_tokenizer))"
   ]
  },
  {
   "cell_type": "code",
   "execution_count": 70,
   "metadata": {},
   "outputs": [
    {
     "name": "stdout",
     "output_type": "stream",
     "text": [
      "_________________________________________________________________\n",
      "Layer (type)                 Output Shape              Param #   \n",
      "=================================================================\n",
      "input_3 (InputLayer)         (None, 21, 1)             0         \n",
      "_________________________________________________________________\n",
      "gru_3 (GRU)                  (None, 21, 64)            12672     \n",
      "_________________________________________________________________\n",
      "time_distributed_3 (TimeDist (None, 21, 345)           22425     \n",
      "_________________________________________________________________\n",
      "activation_3 (Activation)    (None, 21, 345)           0         \n",
      "=================================================================\n",
      "Total params: 35,097\n",
      "Trainable params: 35,097\n",
      "Non-trainable params: 0\n",
      "_________________________________________________________________\n"
     ]
    }
   ],
   "source": [
    "simple_rnn_model.summary()"
   ]
  },
  {
   "cell_type": "markdown",
   "metadata": {},
   "source": [
    "### Model 2: Embedding (IMPLEMENTATION)\n",
    "![RNN](images/embedding.png)\n",
    "You've turned the words into ids, but there's a better representation of a word.  This is called word embeddings.  An embedding is a vector representation of the word that is close to similar words in n-dimensional space, where the n represents the size of the embedding vectors.\n",
    "\n",
    "In this model, you'll create a RNN model using embedding."
   ]
  },
  {
   "cell_type": "code",
   "execution_count": 127,
   "metadata": {},
   "outputs": [],
   "source": [
    "def embed_model(input_shape, output_sequence_length, english_vocab_size, french_vocab_size):\n",
    "    \"\"\"\n",
    "    Build and train a RNN model using word embedding on x and y\n",
    "    :param input_shape: Tuple of input shape\n",
    "    :param output_sequence_length: Length of output sequence\n",
    "    :param english_vocab_size: Number of unique English words in the dataset\n",
    "    :param french_vocab_size: Number of unique French words in the dataset\n",
    "    :return: Keras model built, but not trained\n",
    "    \"\"\"\n",
    "    # TODO: Implement\n",
    "    learning_rate = 1e-2\n",
    "    \n",
    "    input_seq = Input(input_shape[1:])\n",
    "#     import pdb; pdb.set_trace()\n",
    "    embed = Embedding(input_dim=english_vocab_size, \n",
    "                      output_dim=256, \n",
    "                      input_length=output_sequence_length,\n",
    "                     input_shape=(input_shape[1:]))(input_seq)\n",
    "    \n",
    "    rnn = GRU(64, return_sequences=True)(embed)\n",
    "    \n",
    "    logits = TimeDistributed(Dense(french_vocab_size))(rnn)\n",
    "    \n",
    "    model = Model(input_seq, Activation('softmax')(logits))\n",
    "    \n",
    "    model.compile(loss=sparse_categorical_crossentropy, \n",
    "                  optimizer=Adam(learning_rate), \n",
    "                    metrics=['accuracy'])\n",
    "    print(model.summary())\n",
    "    return model"
   ]
  },
  {
   "cell_type": "code",
   "execution_count": 92,
   "metadata": {},
   "outputs": [
    {
     "name": "stdout",
     "output_type": "stream",
     "text": [
      "_________________________________________________________________\n",
      "Layer (type)                 Output Shape              Param #   \n",
      "=================================================================\n",
      "input_37 (InputLayer)        (None, 21)                0         \n",
      "_________________________________________________________________\n",
      "embedding_31 (Embedding)     (None, 21, 256)           50944     \n",
      "_________________________________________________________________\n",
      "gru_36 (GRU)                 (None, 21, 64)            61632     \n",
      "_________________________________________________________________\n",
      "time_distributed_28 (TimeDis (None, 21, 344)           22360     \n",
      "_________________________________________________________________\n",
      "activation_28 (Activation)   (None, 21, 344)           0         \n",
      "=================================================================\n",
      "Total params: 134,936\n",
      "Trainable params: 134,936\n",
      "Non-trainable params: 0\n",
      "_________________________________________________________________\n",
      "None\n"
     ]
    }
   ],
   "source": [
    "tests.test_embed_model(embed_model)"
   ]
  },
  {
   "cell_type": "code",
   "execution_count": 93,
   "metadata": {},
   "outputs": [],
   "source": [
    "# TODO: Reshape the input\n",
    "\n",
    "tmp_x = pad(preproc_english_sentences, max_french_sequence_length)"
   ]
  },
  {
   "cell_type": "code",
   "execution_count": 94,
   "metadata": {},
   "outputs": [
    {
     "data": {
      "text/plain": [
       "(137861, 21)"
      ]
     },
     "execution_count": 94,
     "metadata": {},
     "output_type": "execute_result"
    }
   ],
   "source": [
    "tmp_x.shape"
   ]
  },
  {
   "cell_type": "code",
   "execution_count": 95,
   "metadata": {},
   "outputs": [
    {
     "name": "stdout",
     "output_type": "stream",
     "text": [
      "_________________________________________________________________\n",
      "Layer (type)                 Output Shape              Param #   \n",
      "=================================================================\n",
      "input_38 (InputLayer)        (None, 21)                0         \n",
      "_________________________________________________________________\n",
      "embedding_32 (Embedding)     (None, 21, 256)           51200     \n",
      "_________________________________________________________________\n",
      "gru_37 (GRU)                 (None, 21, 64)            61632     \n",
      "_________________________________________________________________\n",
      "time_distributed_29 (TimeDis (None, 21, 345)           22425     \n",
      "_________________________________________________________________\n",
      "activation_29 (Activation)   (None, 21, 345)           0         \n",
      "=================================================================\n",
      "Total params: 135,257\n",
      "Trainable params: 135,257\n",
      "Non-trainable params: 0\n",
      "_________________________________________________________________\n",
      "None\n"
     ]
    }
   ],
   "source": [
    "# TODO: Train the neural network\n",
    "embedding_rnn_model = embed_model(tmp_x.shape, \n",
    "                                  max_french_sequence_length,\n",
    "                                  english_vocab_size, \n",
    "                                  french_vocab_size)"
   ]
  },
  {
   "cell_type": "code",
   "execution_count": 96,
   "metadata": {},
   "outputs": [
    {
     "name": "stdout",
     "output_type": "stream",
     "text": [
      "Train on 110288 samples, validate on 27573 samples\n",
      "Epoch 1/10\n",
      "110288/110288 [==============================] - 10s 91us/step - loss: 1.6009 - acc: 0.6477 - val_loss: 0.6770 - val_acc: 0.7942\n",
      "Epoch 2/10\n",
      "110288/110288 [==============================] - 9s 81us/step - loss: 0.5343 - acc: 0.8351 - val_loss: 0.4365 - val_acc: 0.8617\n",
      "Epoch 3/10\n",
      "110288/110288 [==============================] - 9s 81us/step - loss: 0.3857 - acc: 0.8799 - val_loss: 0.3457 - val_acc: 0.8914\n",
      "Epoch 4/10\n",
      "110288/110288 [==============================] - 9s 81us/step - loss: 0.3282 - acc: 0.8966 - val_loss: 0.3159 - val_acc: 0.8998\n",
      "Epoch 5/10\n",
      "110288/110288 [==============================] - 9s 81us/step - loss: 0.3002 - acc: 0.9045 - val_loss: 0.2949 - val_acc: 0.9056\n",
      "Epoch 6/10\n",
      "110288/110288 [==============================] - 9s 81us/step - loss: 0.2804 - acc: 0.9099 - val_loss: 0.2750 - val_acc: 0.9125\n",
      "Epoch 7/10\n",
      "110288/110288 [==============================] - 9s 81us/step - loss: 0.2670 - acc: 0.9139 - val_loss: 0.2692 - val_acc: 0.9145\n",
      "Epoch 8/10\n",
      "110288/110288 [==============================] - 9s 81us/step - loss: 0.2586 - acc: 0.9161 - val_loss: 0.2645 - val_acc: 0.9149\n",
      "Epoch 9/10\n",
      "110288/110288 [==============================] - 9s 81us/step - loss: 0.2512 - acc: 0.9182 - val_loss: 0.2526 - val_acc: 0.9187\n",
      "Epoch 10/10\n",
      "110288/110288 [==============================] - 9s 81us/step - loss: 0.2489 - acc: 0.9189 - val_loss: 0.2503 - val_acc: 0.9192\n",
      "new jersey est parfois calme en l' et l' il est il avril <PAD> <PAD> <PAD> <PAD> <PAD> <PAD> <PAD> <PAD>\n"
     ]
    }
   ],
   "source": [
    "embedding_rnn_model.fit(tmp_x, preproc_french_sentences, batch_size=1024, epochs=10, validation_split=0.2)\n",
    "# TODO: Print prediction(s)\n",
    "print(logits_to_text(embedding_rnn_model.predict(tmp_x[:1])[0], french_tokenizer))"
   ]
  },
  {
   "cell_type": "markdown",
   "metadata": {},
   "source": [
    "### Model 3: Bidirectional RNNs (IMPLEMENTATION)\n",
    "![RNN](images/bidirectional.png)\n",
    "One restriction of a RNN is that it can't see the future input, only the past.  This is where bidirectional recurrent neural networks come in.  They are able to see the future data."
   ]
  },
  {
   "cell_type": "code",
   "execution_count": 97,
   "metadata": {},
   "outputs": [],
   "source": [
    "def bd_model(input_shape, output_sequence_length, english_vocab_size, french_vocab_size):\n",
    "    \"\"\"\n",
    "    Build and train a bidirectional RNN model on x and y\n",
    "    :param input_shape: Tuple of input shape\n",
    "    :param output_sequence_length: Length of output sequence\n",
    "    :param english_vocab_size: Number of unique English words in the dataset\n",
    "    :param french_vocab_size: Number of unique French words in the dataset\n",
    "    :return: Keras model built, but not trained\n",
    "    \"\"\"\n",
    "    # TODO: Implement\n",
    "    learning_rate = 1e-2\n",
    "    \n",
    "    input_seq = Input(input_shape[1:])\n",
    "    \n",
    "    rnn = Bidirectional(GRU(64, return_sequences=True))(input_seq)\n",
    "    \n",
    "    logits = TimeDistributed(Dense(french_vocab_size))(rnn)\n",
    "    \n",
    "    model = Model(input_seq, Activation('softmax')(logits))\n",
    "    \n",
    "    print(model.summary())\n",
    "    \n",
    "    model.compile(loss=sparse_categorical_crossentropy,\n",
    "                 optimizer=Adam(learning_rate),\n",
    "                 metrics=['accuracy'])\n",
    "\n",
    "    return model"
   ]
  },
  {
   "cell_type": "code",
   "execution_count": 98,
   "metadata": {},
   "outputs": [
    {
     "name": "stdout",
     "output_type": "stream",
     "text": [
      "_________________________________________________________________\n",
      "Layer (type)                 Output Shape              Param #   \n",
      "=================================================================\n",
      "input_39 (InputLayer)        (None, 21, 1)             0         \n",
      "_________________________________________________________________\n",
      "bidirectional_8 (Bidirection (None, 21, 128)           25344     \n",
      "_________________________________________________________________\n",
      "time_distributed_30 (TimeDis (None, 21, 344)           44376     \n",
      "_________________________________________________________________\n",
      "activation_30 (Activation)   (None, 21, 344)           0         \n",
      "=================================================================\n",
      "Total params: 69,720\n",
      "Trainable params: 69,720\n",
      "Non-trainable params: 0\n",
      "_________________________________________________________________\n",
      "None\n"
     ]
    }
   ],
   "source": [
    "tests.test_bd_model(bd_model)"
   ]
  },
  {
   "cell_type": "code",
   "execution_count": 99,
   "metadata": {},
   "outputs": [],
   "source": [
    "# TODO: Train and Print prediction(s)\n",
    "tmp_x = pad(preproc_english_sentences, max_french_sequence_length)\n",
    "tmp_x = tmp_x.reshape(-1, preproc_french_sentences.shape[-2], 1)\n"
   ]
  },
  {
   "cell_type": "code",
   "execution_count": 100,
   "metadata": {},
   "outputs": [
    {
     "name": "stdout",
     "output_type": "stream",
     "text": [
      "_________________________________________________________________\n",
      "Layer (type)                 Output Shape              Param #   \n",
      "=================================================================\n",
      "input_40 (InputLayer)        (None, 21, 1)             0         \n",
      "_________________________________________________________________\n",
      "bidirectional_9 (Bidirection (None, 21, 128)           25344     \n",
      "_________________________________________________________________\n",
      "time_distributed_31 (TimeDis (None, 21, 345)           44505     \n",
      "_________________________________________________________________\n",
      "activation_31 (Activation)   (None, 21, 345)           0         \n",
      "=================================================================\n",
      "Total params: 69,849\n",
      "Trainable params: 69,849\n",
      "Non-trainable params: 0\n",
      "_________________________________________________________________\n",
      "None\n"
     ]
    }
   ],
   "source": [
    "bidirectional_rnn_model = bd_model(tmp_x.shape,\n",
    "                                  max_french_sequence_length,\n",
    "                                  english_vocab_size,\n",
    "                                  french_vocab_size)"
   ]
  },
  {
   "cell_type": "code",
   "execution_count": 101,
   "metadata": {},
   "outputs": [
    {
     "name": "stdout",
     "output_type": "stream",
     "text": [
      "Train on 110288 samples, validate on 27573 samples\n",
      "Epoch 1/10\n",
      "110288/110288 [==============================] - 12s 110us/step - loss: 1.8680 - acc: 0.5736 - val_loss: 1.3170 - val_acc: 0.6382\n",
      "Epoch 2/10\n",
      "110288/110288 [==============================] - 11s 98us/step - loss: 1.2235 - acc: 0.6544 - val_loss: 1.1495 - val_acc: 0.6663\n",
      "Epoch 3/10\n",
      "110288/110288 [==============================] - 11s 98us/step - loss: 1.1187 - acc: 0.6708 - val_loss: 1.1066 - val_acc: 0.6719\n",
      "Epoch 4/10\n",
      "110288/110288 [==============================] - 11s 98us/step - loss: 1.0576 - acc: 0.6806 - val_loss: 1.0287 - val_acc: 0.6838\n",
      "Epoch 5/10\n",
      "110288/110288 [==============================] - 11s 98us/step - loss: 1.0104 - acc: 0.6881 - val_loss: 0.9928 - val_acc: 0.6902\n",
      "Epoch 6/10\n",
      "110288/110288 [==============================] - 11s 98us/step - loss: 0.9751 - acc: 0.6938 - val_loss: 0.9640 - val_acc: 0.6959\n",
      "Epoch 7/10\n",
      "110288/110288 [==============================] - 11s 98us/step - loss: 0.9464 - acc: 0.7001 - val_loss: 0.9330 - val_acc: 0.7041\n",
      "Epoch 8/10\n",
      "110288/110288 [==============================] - 11s 98us/step - loss: 0.9258 - acc: 0.7042 - val_loss: 0.9096 - val_acc: 0.7070\n",
      "Epoch 9/10\n",
      "110288/110288 [==============================] - 11s 97us/step - loss: 0.9007 - acc: 0.7102 - val_loss: 0.8941 - val_acc: 0.7129\n",
      "Epoch 10/10\n",
      "110288/110288 [==============================] - 11s 97us/step - loss: 0.8847 - acc: 0.7144 - val_loss: 0.8749 - val_acc: 0.7185\n"
     ]
    },
    {
     "data": {
      "text/plain": [
       "<keras.callbacks.History at 0x7f00f133a668>"
      ]
     },
     "execution_count": 101,
     "metadata": {},
     "output_type": "execute_result"
    }
   ],
   "source": [
    "bidirectional_rnn_model.fit(tmp_x, preproc_french_sentences, batch_size=1024, validation_split=0.2, epochs=10)"
   ]
  },
  {
   "cell_type": "markdown",
   "metadata": {},
   "source": [
    "### Model 4: Encoder-Decoder (OPTIONAL)\n",
    "Time to look at encoder-decoder models.  This model is made up of an encoder and decoder. The encoder creates a matrix representation of the sentence.  The decoder takes this matrix as input and predicts the translation as output.\n",
    "\n",
    "Create an encoder-decoder model in the cell below."
   ]
  },
  {
   "cell_type": "code",
   "execution_count": null,
   "metadata": {},
   "outputs": [],
   "source": [
    "def encdec_model(input_shape, output_sequence_length, english_vocab_size, french_vocab_size):\n",
    "    \"\"\"\n",
    "    Build and train an encoder-decoder model on x and y\n",
    "    :param input_shape: Tuple of input shape\n",
    "    :param output_sequence_length: Length of output sequence\n",
    "    :param english_vocab_size: Number of unique English words in the dataset\n",
    "    :param french_vocab_size: Number of unique French words in the dataset\n",
    "    :return: Keras model built, but not trained\n",
    "    \"\"\"\n",
    "    # OPTIONAL: Implement\n",
    "    return None\n",
    "tests.test_encdec_model(encdec_model)\n",
    "\n",
    "\n",
    "# OPTIONAL: Train and Print prediction(s)"
   ]
  },
  {
   "cell_type": "markdown",
   "metadata": {},
   "source": [
    "### Model 5: Custom (IMPLEMENTATION)\n",
    "Use everything you learned from the previous models to create a model that incorporates embedding and a bidirectional rnn into one model."
   ]
  },
  {
   "cell_type": "code",
   "execution_count": 124,
   "metadata": {},
   "outputs": [],
   "source": [
    "def model_final(input_shape, output_sequence_length, english_vocab_size, french_vocab_size):\n",
    "    \"\"\"\n",
    "    Build and train a model that incorporates embedding, encoder-decoder, and bidirectional RNN on x and y\n",
    "    :param input_shape: Tuple of input shape\n",
    "    :param output_sequence_length: Length of output sequence\n",
    "    :param english_vocab_size: Number of unique English words in the dataset\n",
    "    :param french_vocab_size: Number of unique French words in the dataset\n",
    "    :return: Keras model built, but not trained\n",
    "    \"\"\"\n",
    "    # TODO: Implement\n",
    "    \n",
    "    learning_rate = 1e-2\n",
    "    \n",
    "    input_seq = Input(input_shape[1:])\n",
    "    embed = Embedding(input_dim=english_vocab_size, \n",
    "                      output_dim=256, \n",
    "                      input_length=output_sequence_length,\n",
    "                      input_shape=(input_shape[1:]))(input_seq)\n",
    "    \n",
    "    rnn = Bidirectional(GRU(64, return_sequences=True))(embed)\n",
    "    \n",
    "    logits = TimeDistributed(Dense(french_vocab_size))(rnn)\n",
    "    \n",
    "    model = Model(input_seq, Activation('softmax')(logits))\n",
    "    \n",
    "    model.compile(loss=sparse_categorical_crossentropy, \n",
    "                  optimizer=Adam(learning_rate), \n",
    "                    metrics=['accuracy'])\n",
    "    print(model.summary())\n",
    "    return model\n",
    "    "
   ]
  },
  {
   "cell_type": "code",
   "execution_count": 125,
   "metadata": {},
   "outputs": [
    {
     "name": "stdout",
     "output_type": "stream",
     "text": [
      "_________________________________________________________________\n",
      "Layer (type)                 Output Shape              Param #   \n",
      "=================================================================\n",
      "input_53 (InputLayer)        (None, 15)                0         \n",
      "_________________________________________________________________\n",
      "embedding_45 (Embedding)     (None, 21, 256)           50944     \n",
      "_________________________________________________________________\n",
      "bidirectional_22 (Bidirectio (None, 21, 128)           123264    \n",
      "_________________________________________________________________\n",
      "time_distributed_44 (TimeDis (None, 21, 344)           44376     \n",
      "_________________________________________________________________\n",
      "activation_44 (Activation)   (None, 21, 344)           0         \n",
      "=================================================================\n",
      "Total params: 218,584\n",
      "Trainable params: 218,584\n",
      "Non-trainable params: 0\n",
      "_________________________________________________________________\n",
      "None\n",
      "Final Model Loaded\n"
     ]
    }
   ],
   "source": [
    "tests.test_model_final(model_final)\n",
    "print('Final Model Loaded')\n"
   ]
  },
  {
   "cell_type": "markdown",
   "metadata": {},
   "source": [
    "## Prediction (IMPLEMENTATION)"
   ]
  },
  {
   "cell_type": "code",
   "execution_count": 128,
   "metadata": {},
   "outputs": [
    {
     "name": "stdout",
     "output_type": "stream",
     "text": [
      "_________________________________________________________________\n",
      "Layer (type)                 Output Shape              Param #   \n",
      "=================================================================\n",
      "input_55 (InputLayer)        (None, 21)                0         \n",
      "_________________________________________________________________\n",
      "embedding_47 (Embedding)     (None, 21, 256)           50944     \n",
      "_________________________________________________________________\n",
      "bidirectional_24 (Bidirectio (None, 21, 128)           123264    \n",
      "_________________________________________________________________\n",
      "time_distributed_46 (TimeDis (None, 21, 344)           44376     \n",
      "_________________________________________________________________\n",
      "activation_46 (Activation)   (None, 21, 344)           0         \n",
      "=================================================================\n",
      "Total params: 218,584\n",
      "Trainable params: 218,584\n",
      "Non-trainable params: 0\n",
      "_________________________________________________________________\n",
      "None\n",
      "Train on 110288 samples, validate on 27573 samples\n",
      "Epoch 1/10\n",
      "110288/110288 [==============================] - 16s 142us/step - loss: 1.3487 - acc: 0.6882 - val_loss: nan - val_acc: 0.8355\n",
      "Epoch 2/10\n",
      "110288/110288 [==============================] - 14s 124us/step - loss: 0.3846 - acc: 0.8802 - val_loss: nan - val_acc: 0.9073\n",
      "Epoch 3/10\n",
      "110288/110288 [==============================] - 14s 123us/step - loss: 0.2559 - acc: 0.9220 - val_loss: nan - val_acc: 0.9302\n",
      "Epoch 4/10\n",
      "110288/110288 [==============================] - 14s 124us/step - loss: 0.2028 - acc: 0.9393 - val_loss: nan - val_acc: 0.9456\n",
      "Epoch 5/10\n",
      "110288/110288 [==============================] - 14s 124us/step - loss: 0.1724 - acc: 0.9490 - val_loss: nan - val_acc: 0.9499\n",
      "Epoch 6/10\n",
      "110288/110288 [==============================] - 14s 124us/step - loss: 0.1541 - acc: 0.9549 - val_loss: nan - val_acc: 0.9559\n",
      "Epoch 7/10\n",
      "110288/110288 [==============================] - 14s 124us/step - loss: 0.1432 - acc: 0.9581 - val_loss: nan - val_acc: 0.9580\n",
      "Epoch 8/10\n",
      "110288/110288 [==============================] - 14s 124us/step - loss: 0.1301 - acc: 0.9621 - val_loss: nan - val_acc: 0.9605\n",
      "Epoch 9/10\n",
      "110288/110288 [==============================] - 14s 123us/step - loss: 0.1259 - acc: 0.9631 - val_loss: nan - val_acc: 0.9610\n",
      "Epoch 10/10\n",
      "110288/110288 [==============================] - 14s 124us/step - loss: 0.1240 - acc: 0.9635 - val_loss: nan - val_acc: 0.9629\n",
      "Sample 1:\n",
      "il a vu un vieux camion jaune <PAD> <PAD> <PAD> <PAD> <PAD> <PAD> <PAD> <PAD> <PAD> <PAD> <PAD> <PAD> <PAD> <PAD>\n",
      "Il a vu un vieux camion jaune\n",
      "Sample 2:\n",
      "new jersey est parfois calme au l' automne et il est neigeux en avril <PAD> <PAD> <PAD> <PAD> <PAD> <PAD> <PAD>\n",
      "new jersey est parfois calme pendant l' automne et il est neigeux en avril <PAD> <PAD> <PAD> <PAD> <PAD> <PAD> <PAD>\n"
     ]
    }
   ],
   "source": [
    "def final_predictions(x, y, x_tk, y_tk):\n",
    "    \"\"\"\n",
    "    Gets predictions using the final model\n",
    "    :param x: Preprocessed English data\n",
    "    :param y: Preprocessed French data\n",
    "    :param x_tk: English tokenizer\n",
    "    :param y_tk: French tokenizer\n",
    "    \"\"\"\n",
    "    # TODO: Train neural network using model_final\n",
    "    x = pad(x, y.shape[1])\n",
    "    model = model_final(x.shape,  \n",
    "                        y.shape[1],\n",
    "                        len(x_tk.word_index),\n",
    "                        len(y_tk.word_index))\n",
    "\n",
    "    model.fit(x, y, batch_size=1024, validation_split=0.2, epochs=10)\n",
    "    ## DON'T EDIT ANYTHING BELOW THIS LINE\n",
    "    y_id_to_word = {value: key for key, value in y_tk.word_index.items()}\n",
    "    y_id_to_word[0] = '<PAD>'\n",
    "\n",
    "    sentence = 'he saw a old yellow truck'\n",
    "    sentence = [x_tk.word_index[word] for word in sentence.split()]\n",
    "    sentence = pad_sequences([sentence], maxlen=x.shape[-1], padding='post')\n",
    "    sentences = np.array([sentence[0], x[0]])\n",
    "    predictions = model.predict(sentences, len(sentences))\n",
    "\n",
    "    print('Sample 1:')\n",
    "    print(' '.join([y_id_to_word[np.argmax(x)] for x in predictions[0]]))\n",
    "    print('Il a vu un vieux camion jaune')\n",
    "    print('Sample 2:')\n",
    "    print(' '.join([y_id_to_word[np.argmax(x)] for x in predictions[1]]))\n",
    "    print(' '.join([y_id_to_word[np.max(x)] for x in y[0]]))\n",
    "\n",
    "\n",
    "final_predictions(preproc_english_sentences, preproc_french_sentences, english_tokenizer, french_tokenizer)"
   ]
  },
  {
   "cell_type": "markdown",
   "metadata": {},
   "source": [
    "## Submission\n",
    "When you're ready to submit, complete the following steps:\n",
    "1. Review the [rubric](https://review.udacity.com/#!/rubrics/1004/view) to ensure your submission meets all requirements to pass\n",
    "2. Generate an HTML version of this notebook\n",
    "\n",
    "  - Run the next cell to attempt automatic generation (this is the recommended method in Workspaces)\n",
    "  - Navigate to **FILE -> Download as -> HTML (.html)**\n",
    "  - Manually generate a copy using `nbconvert` from your shell terminal\n",
    "```\n",
    "$ pip install nbconvert\n",
    "$ python -m nbconvert machine_translation.ipynb\n",
    "```\n",
    "  \n",
    "3. Submit the project\n",
    "\n",
    "  - If you are in a Workspace, simply click the \"Submit Project\" button (bottom towards the right)\n",
    "  \n",
    "  - Otherwise, add the following files into a zip archive and submit them \n",
    "  - `helper.py`\n",
    "  - `machine_translation.ipynb`\n",
    "  - `machine_translation.html`\n",
    "    - You can export the notebook by navigating to **File -> Download as -> HTML (.html)**."
   ]
  },
  {
   "cell_type": "markdown",
   "metadata": {},
   "source": [
    "### Generate the html\n",
    "\n",
    "**Save your notebook before running the next cell to generate the HTML output.** Then submit your project."
   ]
  },
  {
   "cell_type": "code",
   "execution_count": 130,
   "metadata": {},
   "outputs": [
    {
     "data": {
      "text/plain": [
       "['[NbConvertApp] Converting notebook machine_translation.ipynb to html',\n",
       " '[NbConvertApp] Writing 376407 bytes to machine_translation.html',\n",
       " '[NbConvertApp] Converting notebook machine_translation-zh.ipynb to html',\n",
       " '[NbConvertApp] Writing 328614 bytes to machine_translation-zh.html']"
      ]
     },
     "execution_count": 130,
     "metadata": {},
     "output_type": "execute_result"
    }
   ],
   "source": [
    "# Save before you run this cell!\n",
    "!!jupyter nbconvert *.ipynb"
   ]
  },
  {
   "cell_type": "markdown",
   "metadata": {},
   "source": [
    "## Optional Enhancements\n",
    "\n",
    "This project focuses on learning various network architectures for machine translation, but we don't evaluate the models according to best practices by splitting the data into separate test & training sets -- so the model accuracy is overstated. Use the [`sklearn.model_selection.train_test_split()`](http://scikit-learn.org/stable/modules/generated/sklearn.model_selection.train_test_split.html) function to create separate training & test datasets, then retrain each of the models using only the training set and evaluate the prediction accuracy using the hold out test set. Does the \"best\" model change?"
   ]
  }
 ],
 "metadata": {
  "kernelspec": {
   "display_name": "Python 3",
   "language": "python",
   "name": "python3"
  },
  "language_info": {
   "codemirror_mode": {
    "name": "ipython",
    "version": 3
   },
   "file_extension": ".py",
   "mimetype": "text/x-python",
   "name": "python",
   "nbconvert_exporter": "python",
   "pygments_lexer": "ipython3",
   "version": "3.6.3"
  }
 },
 "nbformat": 4,
 "nbformat_minor": 1
}
