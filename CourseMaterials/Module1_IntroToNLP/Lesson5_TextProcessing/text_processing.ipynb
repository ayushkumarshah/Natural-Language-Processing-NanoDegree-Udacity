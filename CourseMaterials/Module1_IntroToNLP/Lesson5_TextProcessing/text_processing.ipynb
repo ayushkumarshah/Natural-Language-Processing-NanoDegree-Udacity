{
 "cells": [
  {
   "cell_type": "markdown",
   "metadata": {},
   "source": [
    "# Text Processing\n",
    "\n",
    "## Capturing Text Data\n",
    "\n",
    "### Plain Text"
   ]
  },
  {
   "cell_type": "code",
   "execution_count": 3,
   "metadata": {},
   "outputs": [
    {
     "name": "stdout",
     "output_type": "stream",
     "text": [
      "Hieroglyphic writing dates from c. 3000 BC, and is composed of hundreds of symbols. A hieroglyph can represent a word, a sound, or a silent determinative; and the same symbol can serve different purposes in different contexts. Hieroglyphs were a formal script, used on stone monuments and in tombs, that could be as detailed as individual works of art.\n",
      "\n"
     ]
    }
   ],
   "source": [
    "import os\n",
    "\n",
    "# Read in a plain text file\n",
    "with open(os.path.join(\"data\", \"hieroglyph.txt\"), \"r\") as f:\n",
    "    text = f.read()\n",
    "    print(text)"
   ]
  },
  {
   "cell_type": "markdown",
   "metadata": {},
   "source": [
    "### Tabular Data"
   ]
  },
  {
   "cell_type": "code",
   "execution_count": 4,
   "metadata": {},
   "outputs": [
    {
     "data": {
      "text/html": [
       "<div>\n",
       "<style scoped>\n",
       "    .dataframe tbody tr th:only-of-type {\n",
       "        vertical-align: middle;\n",
       "    }\n",
       "\n",
       "    .dataframe tbody tr th {\n",
       "        vertical-align: top;\n",
       "    }\n",
       "\n",
       "    .dataframe thead th {\n",
       "        text-align: right;\n",
       "    }\n",
       "</style>\n",
       "<table border=\"1\" class=\"dataframe\">\n",
       "  <thead>\n",
       "    <tr style=\"text-align: right;\">\n",
       "      <th></th>\n",
       "      <th>publisher</th>\n",
       "      <th>title</th>\n",
       "    </tr>\n",
       "  </thead>\n",
       "  <tbody>\n",
       "    <tr>\n",
       "      <th>0</th>\n",
       "      <td>Livemint</td>\n",
       "      <td>Fed's Charles Plosser sees high bar for change...</td>\n",
       "    </tr>\n",
       "    <tr>\n",
       "      <th>1</th>\n",
       "      <td>IFA Magazine</td>\n",
       "      <td>US open: Stocks fall after Fed official hints ...</td>\n",
       "    </tr>\n",
       "    <tr>\n",
       "      <th>2</th>\n",
       "      <td>IFA Magazine</td>\n",
       "      <td>Fed risks falling 'behind the curve', Charles ...</td>\n",
       "    </tr>\n",
       "    <tr>\n",
       "      <th>3</th>\n",
       "      <td>Moneynews</td>\n",
       "      <td>Fed's Plosser: Nasty Weather Has Curbed Job Gr...</td>\n",
       "    </tr>\n",
       "    <tr>\n",
       "      <th>4</th>\n",
       "      <td>NASDAQ</td>\n",
       "      <td>Plosser: Fed May Have to Accelerate Tapering Pace</td>\n",
       "    </tr>\n",
       "  </tbody>\n",
       "</table>\n",
       "</div>"
      ],
      "text/plain": [
       "      publisher                                              title\n",
       "0      Livemint  Fed's Charles Plosser sees high bar for change...\n",
       "1  IFA Magazine  US open: Stocks fall after Fed official hints ...\n",
       "2  IFA Magazine  Fed risks falling 'behind the curve', Charles ...\n",
       "3     Moneynews  Fed's Plosser: Nasty Weather Has Curbed Job Gr...\n",
       "4        NASDAQ  Plosser: Fed May Have to Accelerate Tapering Pace"
      ]
     },
     "execution_count": 4,
     "metadata": {},
     "output_type": "execute_result"
    }
   ],
   "source": [
    "import pandas as pd\n",
    "\n",
    "# Extract text column from a dataframe\n",
    "df = pd.read_csv(os.path.join(\"data\", \"news.csv\"))\n",
    "df.head()[['publisher', 'title']]"
   ]
  },
  {
   "cell_type": "code",
   "execution_count": 5,
   "metadata": {
    "scrolled": true
   },
   "outputs": [
    {
     "data": {
      "text/html": [
       "<div>\n",
       "<style scoped>\n",
       "    .dataframe tbody tr th:only-of-type {\n",
       "        vertical-align: middle;\n",
       "    }\n",
       "\n",
       "    .dataframe tbody tr th {\n",
       "        vertical-align: top;\n",
       "    }\n",
       "\n",
       "    .dataframe thead th {\n",
       "        text-align: right;\n",
       "    }\n",
       "</style>\n",
       "<table border=\"1\" class=\"dataframe\">\n",
       "  <thead>\n",
       "    <tr style=\"text-align: right;\">\n",
       "      <th></th>\n",
       "      <th>publisher</th>\n",
       "      <th>title</th>\n",
       "    </tr>\n",
       "  </thead>\n",
       "  <tbody>\n",
       "    <tr>\n",
       "      <th>0</th>\n",
       "      <td>Livemint</td>\n",
       "      <td>fed's charles plosser sees high bar for change...</td>\n",
       "    </tr>\n",
       "    <tr>\n",
       "      <th>1</th>\n",
       "      <td>IFA Magazine</td>\n",
       "      <td>us open: stocks fall after fed official hints ...</td>\n",
       "    </tr>\n",
       "    <tr>\n",
       "      <th>2</th>\n",
       "      <td>IFA Magazine</td>\n",
       "      <td>fed risks falling 'behind the curve', charles ...</td>\n",
       "    </tr>\n",
       "    <tr>\n",
       "      <th>3</th>\n",
       "      <td>Moneynews</td>\n",
       "      <td>fed's plosser: nasty weather has curbed job gr...</td>\n",
       "    </tr>\n",
       "    <tr>\n",
       "      <th>4</th>\n",
       "      <td>NASDAQ</td>\n",
       "      <td>plosser: fed may have to accelerate tapering pace</td>\n",
       "    </tr>\n",
       "  </tbody>\n",
       "</table>\n",
       "</div>"
      ],
      "text/plain": [
       "      publisher                                              title\n",
       "0      Livemint  fed's charles plosser sees high bar for change...\n",
       "1  IFA Magazine  us open: stocks fall after fed official hints ...\n",
       "2  IFA Magazine  fed risks falling 'behind the curve', charles ...\n",
       "3     Moneynews  fed's plosser: nasty weather has curbed job gr...\n",
       "4        NASDAQ  plosser: fed may have to accelerate tapering pace"
      ]
     },
     "execution_count": 5,
     "metadata": {},
     "output_type": "execute_result"
    }
   ],
   "source": [
    "# Convert text column to lowercase\n",
    "df['title'] = df['title'].str.lower()\n",
    "df.head()[['publisher', 'title']]"
   ]
  },
  {
   "cell_type": "markdown",
   "metadata": {},
   "source": [
    "### Online Resource"
   ]
  },
  {
   "cell_type": "code",
   "execution_count": 6,
   "metadata": {},
   "outputs": [
    {
     "name": "stdout",
     "output_type": "stream",
     "text": [
      "{\n",
      "    \"success\": {\n",
      "        \"total\": 1\n",
      "    },\n",
      "    \"contents\": {\n",
      "        \"quotes\": [\n",
      "            {\n",
      "                \"quote\": \"The best way to predict the future is to create it.\",\n",
      "                \"length\": \"51\",\n",
      "                \"author\": \"Abraham Lincoln\",\n",
      "                \"tags\": [\n",
      "                    \"future\",\n",
      "                    \"inspire\"\n",
      "                ],\n",
      "                \"category\": \"inspire\",\n",
      "                \"language\": \"en\",\n",
      "                \"date\": \"2020-04-24\",\n",
      "                \"permalink\": \"https://theysaidso.com/quote/abraham-lincoln-the-best-way-to-predict-the-future-is-to-create-it\",\n",
      "                \"id\": \"Q3TIEXJ5M0DTgVJkdShQpAeF\",\n",
      "                \"background\": \"https://theysaidso.com/img/qod/qod-inspire.jpg\",\n",
      "                \"title\": \"Inspiring Quote of the day\"\n",
      "            }\n",
      "        ]\n",
      "    },\n",
      "    \"baseurl\": \"https://theysaidso.com\",\n",
      "    \"copyright\": {\n",
      "        \"year\": 2022,\n",
      "        \"url\": \"https://theysaidso.com\"\n",
      "    }\n",
      "}\n"
     ]
    }
   ],
   "source": [
    "import requests\n",
    "import json\n",
    "\n",
    "# Fetch data from a REST API\n",
    "r = requests.get(\n",
    "    \"https://quotes.rest/qod.json\")\n",
    "res = r.json()\n",
    "print(json.dumps(res, indent=4))"
   ]
  },
  {
   "cell_type": "code",
   "execution_count": 7,
   "metadata": {
    "scrolled": true
   },
   "outputs": [
    {
     "name": "stdout",
     "output_type": "stream",
     "text": [
      "The best way to predict the future is to create it. \n",
      "-- Abraham Lincoln\n"
     ]
    }
   ],
   "source": [
    "# Extract relevant object and field\n",
    "q = res[\"contents\"][\"quotes\"][0]\n",
    "print(q[\"quote\"], \"\\n--\", q[\"author\"])"
   ]
  },
  {
   "cell_type": "markdown",
   "metadata": {},
   "source": [
    "## Cleaning"
   ]
  },
  {
   "cell_type": "code",
   "execution_count": 8,
   "metadata": {
    "scrolled": true
   },
   "outputs": [
    {
     "name": "stdout",
     "output_type": "stream",
     "text": [
      "<html op=\"news\"><head><meta name=\"referrer\" content=\"origin\"><meta name=\"viewport\" content=\"width=device-width, initial-scale=1.0\"><link rel=\"stylesheet\" type=\"text/css\" href=\"news.css?whWqsioallHIQiqI98Kn\">\n",
      "        <link rel=\"shortcut icon\" href=\"favicon.ico\">\n",
      "          <link rel=\"alternate\" type=\"application/rss+xml\" title=\"RSS\" href=\"rss\">\n",
      "        <title>Hacker News</title></head><body><center><table id=\"hnmain\" border=\"0\" cellpadding=\"0\" cellspacing=\"0\" width=\"85%\" bgcolor=\"#f6f6ef\">\n",
      "        <tr><td bgcolor=\"#ff6600\"><table border=\"0\" cellpadding=\"0\" cellspacing=\"0\" width=\"100%\" style=\"padding:2px\"><tr><td style=\"width:18px;padding-right:4px\"><a href=\"https://news.ycombinator.com\"><img src=\"y18.gif\" width=\"18\" height=\"18\" style=\"border:1px white solid;\"></a></td>\n",
      "                  <td style=\"line-height:12pt; height:10px;\"><span class=\"pagetop\"><b class=\"hnname\"><a href=\"news\">Hacker News</a></b>\n",
      "              <a href=\"newest\">new</a> | <a href=\"front\">past</a> | <a href=\"newcomments\">comments</a> | <a href=\"ask\">ask</a> | <a href=\"show\">show</a> | <a href=\"jobs\">jobs</a> | <a href=\"submit\">submit</a>            </span></td><td style=\"text-align:right;padding-right:4px;\"><span class=\"pagetop\">\n",
      "                              <a href=\"login?goto=news\">login</a>\n",
      "                          </span></td>\n",
      "              </tr></table></td></tr>\n",
      "<tr id=\"pagespace\" title=\"\" style=\"height:10px\"></tr><tr><td><table border=\"0\" cellpadding=\"0\" cellspacing=\"0\" class=\"itemlist\">\n",
      "              <tr class='athing' id='22968280'>\n",
      "      <td align=\"right\" valign=\"top\" class=\"title\"><span class=\"rank\">1.</span></td>      <td valign=\"top\" class=\"votelinks\"><center><a id='up_22968280' href='vote?id=22968280&amp;how=up&amp;goto=news'><div class='votearrow' title='upvote'></div></a></center></td><td class=\"title\"><a href=\"https://fedoramagazine.org/coming-soon-fedora-on-lenovo-laptops/\" class=\"storylink\">Lenovo to Begin Shipping ThinkPad Laptops with Fedora Pre-Installed</a><span class=\"sitebit comhead\"> (<a href=\"from?site=fedoramagazine.org\"><span class=\"sitestr\">fedoramagazine.org</span></a>)</span></td></tr><tr><td colspan=\"2\"></td><td class=\"subtext\">\n",
      "        <span class=\"score\" id=\"score_22968280\">238 points</span> by <a href=\"user?id=caution\" class=\"hnuser\">caution</a> <span class=\"age\"><a href=\"item?id=22968280\">2 hours ago</a></span> <span id=\"unv_22968280\"></span> | <a href=\"hide?id=22968280&amp;goto=news\">hide</a> | <a href=\"item?id=22968280\">112&nbsp;comments</a>              </td></tr>\n",
      "      <tr class=\"spacer\" style=\"height:5px\"></tr>\n",
      "                <tr class='athing' id='22969533'>\n",
      "      <td align=\"right\" valign=\"top\" class=\"title\"><span class=\"rank\">2.</span></td>      <td valign=\"top\" class=\"votelinks\"><center><a id='up_22969533' href='vote?id=22969533&amp;how=up&amp;goto=news'><div class='votearrow' title='upvote'></div></a></center></td><td class=\"title\"><a href=\"https://builtin.com/software-engineering-perspectives/lean-agile-methodology-software-engineering\" class=\"storylink\">Agile's early evangelists wouldn't mind watching Agile die</a><span class=\"sitebit comhead\"> (<a href=\"from?site=builtin.com\"><span class=\"sitestr\">builtin.com</span></a>)</span></td></tr><tr><td colspan=\"2\"></td><td class=\"subtext\">\n",
      "        <span class=\"score\" id=\"score_22969533\">95 points</span> by <a href=\"user?id=prepperpotts\" class=\"hnuser\">prepperpotts</a> <span class=\"age\"><a href=\"item?id=22969533\">1 hour ago</a></span> <span id=\"unv_22969533\"></span> | <a href=\"hide?id=22969533&amp;goto=news\">hide</a> | <a href=\"item?id=22969533\">57&nbsp;comments</a>              </td></tr>\n",
      "      <tr class=\"spacer\" style=\"height:5px\"></tr>\n",
      "                <tr class='athing' id='22968075'>\n",
      "      <td align=\"right\" valign=\"top\" class=\"title\"><span class=\"rank\">3.</span></td>      <td valign=\"top\" class=\"votelinks\"><center><a id='up_22968075' href='vote?id=22968075&amp;how=up&amp;goto=news'><div class='votearrow' title='upvote'></div></a></center></td><td class=\"title\"><a href=\"https://www.ncbi.nlm.nih.gov/pmc/articles/PMC6122858/\" class=\"storylink\">Ultraviolet Irradiation of Blood: “The Cure That Time Forgot”? (2018)</a><span class=\"sitebit comhead\"> (<a href=\"from?site=nih.gov\"><span class=\"sitestr\">nih.gov</span></a>)</span></td></tr><tr><td colspan=\"2\"></td><td class=\"subtext\">\n",
      "        <span class=\"score\" id=\"score_22968075\">178 points</span> by <a href=\"user?id=yoloswagins\" class=\"hnuser\">yoloswagins</a> <span class=\"age\"><a href=\"item?id=22968075\">3 hours ago</a></span> <span id=\"unv_22968075\"></span> | <a href=\"hide?id=22968075&amp;goto=news\">hide</a> | <a href=\"item?id=22968075\">296&nbsp;comments</a>              </td></tr>\n",
      "      <tr class=\"spacer\" style=\"height:5px\"></tr>\n",
      "                <tr class='athing' id='22960225'>\n",
      "      <td align=\"right\" valign=\"top\" class=\"title\"><span class=\"rank\">4.</span></td>      <td valign=\"top\" class=\"votelinks\"><center><a id='up_22960225' href='vote?id=22960225&amp;how=up&amp;goto=news'><div class='votearrow' title='upvote'></div></a></center></td><td class=\"title\"><a href=\"https://chiefofstuff.substack.com/p/career-advice-for-people-with-bad\" class=\"storylink\">Career advice for people with bad luck</a><span class=\"sitebit comhead\"> (<a href=\"from?site=chiefofstuff.substack.com\"><span class=\"sitestr\">chiefofstuff.substack.com</span></a>)</span></td></tr><tr><td colspan=\"2\"></td><td class=\"subtext\">\n",
      "        <span class=\"score\" id=\"score_22960225\">535 points</span> by <a href=\"user?id=Reedx\" class=\"hnuser\">Reedx</a> <span class=\"age\"><a href=\"item?id=22960225\">8 hours ago</a></span> <span id=\"unv_22960225\"></span> | <a href=\"hide?id=22960225&amp;goto=news\">hide</a> | <a href=\"item?id=22960225\">264&nbsp;comments</a>              </td></tr>\n",
      "      <tr class=\"spacer\" style=\"height:5px\"></tr>\n",
      "                <tr class='athing' id='22968796'>\n",
      "      <td align=\"right\" valign=\"top\" class=\"title\"><span class=\"rank\">5.</span></td>      <td valign=\"top\" class=\"votelinks\"><center><a id='up_22968796' href='vote?id=22968796&amp;how=up&amp;goto=news'><div class='votearrow' title='upvote'></div></a></center></td><td class=\"title\"><a href=\"https://www.japantimes.co.jp/news/2020/04/24/national/tokyo-front-line-hospital/\" class=\"storylink\">Medical staff say virus stigma driving Tokyo hospitals to edge of collapse</a><span class=\"sitebit comhead\"> (<a href=\"from?site=japantimes.co.jp\"><span class=\"sitestr\">japantimes.co.jp</span></a>)</span></td></tr><tr><td colspan=\"2\"></td><td class=\"subtext\">\n",
      "        <span class=\"score\" id=\"score_22968796\">94 points</span> by <a href=\"user?id=everybodyknows\" class=\"hnuser\">everybodyknows</a> <span class=\"age\"><a href=\"item?id=22968796\">2 hours ago</a></span> <span id=\"unv_22968796\"></span> | <a href=\"hide?id=22968796&amp;goto=news\">hide</a> | <a href=\"item?id=22968796\">56&nbsp;comments</a>              </td></tr>\n",
      "      <tr class=\"spacer\" style=\"height:5px\"></tr>\n",
      "                <tr class='athing' id='22957383'>\n",
      "      <td align=\"right\" valign=\"top\" class=\"title\"><span class=\"rank\">6.</span></td>      <td valign=\"top\" class=\"votelinks\"><center><a id='up_22957383' href='vote?id=22957383&amp;how=up&amp;goto=news'><div class='votearrow' title='upvote'></div></a></center></td><td class=\"title\"><a href=\"https://jakewharton.com/which-is-better-on-android-divide-by-two-or-shift-by-one/\" class=\"storylink\">Which is better on Android: divide by 2 or shift by 1?</a><span class=\"sitebit comhead\"> (<a href=\"from?site=jakewharton.com\"><span class=\"sitestr\">jakewharton.com</span></a>)</span></td></tr><tr><td colspan=\"2\"></td><td class=\"subtext\">\n",
      "        <span class=\"score\" id=\"score_22957383\">37 points</span> by <a href=\"user?id=zdw\" class=\"hnuser\">zdw</a> <span class=\"age\"><a href=\"item?id=22957383\">2 hours ago</a></span> <span id=\"unv_22957383\"></span> | <a href=\"hide?id=22957383&amp;goto=news\">hide</a> | <a href=\"item?id=22957383\">13&nbsp;comments</a>              </td></tr>\n",
      "      <tr class=\"spacer\" style=\"height:5px\"></tr>\n",
      "                <tr class='athing' id='22964259'>\n",
      "      <td align=\"right\" valign=\"top\" class=\"title\"><span class=\"rank\">7.</span></td>      <td valign=\"top\" class=\"votelinks\"><center><a id='up_22964259' href='vote?id=22964259&amp;how=up&amp;goto=news'><div class='votearrow' title='upvote'></div></a></center></td><td class=\"title\"><a href=\"https://mocagh.org/\" class=\"storylink\">Museum of Computer Adventure Game History</a><span class=\"sitebit comhead\"> (<a href=\"from?site=mocagh.org\"><span class=\"sitestr\">mocagh.org</span></a>)</span></td></tr><tr><td colspan=\"2\"></td><td class=\"subtext\">\n",
      "        <span class=\"score\" id=\"score_22964259\">11 points</span> by <a href=\"user?id=raleighm\" class=\"hnuser\">raleighm</a> <span class=\"age\"><a href=\"item?id=22964259\">1 hour ago</a></span> <span id=\"unv_22964259\"></span> | <a href=\"hide?id=22964259&amp;goto=news\">hide</a> | <a href=\"item?id=22964259\">discuss</a>              </td></tr>\n",
      "      <tr class=\"spacer\" style=\"height:5px\"></tr>\n",
      "                <tr class='athing' id='22969984'>\n",
      "      <td align=\"right\" valign=\"top\" class=\"title\"><span class=\"rank\">8.</span></td>      <td valign=\"top\" class=\"votelinks\"><center><a id='up_22969984' href='vote?id=22969984&amp;how=up&amp;goto=news'><div class='votearrow' title='upvote'></div></a></center></td><td class=\"title\"><a href=\"https://spectrum.ieee.org/tech-talk/semiconductors/processors/heres-what-its-like-inside-a-chip-foundry-during-the-covid19-pandemic\" class=\"storylink\">What It’s Like Inside a Chip Foundry During the Covid-19 Pandemic</a><span class=\"sitebit comhead\"> (<a href=\"from?site=ieee.org\"><span class=\"sitestr\">ieee.org</span></a>)</span></td></tr><tr><td colspan=\"2\"></td><td class=\"subtext\">\n",
      "        <span class=\"score\" id=\"score_22969984\">13 points</span> by <a href=\"user?id=segfaultbuserr\" class=\"hnuser\">segfaultbuserr</a> <span class=\"age\"><a href=\"item?id=22969984\">34 minutes ago</a></span> <span id=\"unv_22969984\"></span> | <a href=\"hide?id=22969984&amp;goto=news\">hide</a> | <a href=\"item?id=22969984\">3&nbsp;comments</a>              </td></tr>\n",
      "      <tr class=\"spacer\" style=\"height:5px\"></tr>\n",
      "                <tr class='athing' id='22969986'>\n",
      "      <td align=\"right\" valign=\"top\" class=\"title\"><span class=\"rank\">9.</span></td>      <td valign=\"top\" class=\"votelinks\"><center><a id='up_22969986' href='vote?id=22969986&amp;how=up&amp;goto=news'><div class='votearrow' title='upvote'></div></a></center></td><td class=\"title\"><a href=\"https://www.forbes.com/sites/brittmariehermes/2016/09/26/uvlrx-therapy-charlatans-medical-devices/#6c6b187c2c5d\" class=\"storylink\">Charlatans sell bogus treatment exposing blood to UV light (2016)</a><span class=\"sitebit comhead\"> (<a href=\"from?site=forbes.com\"><span class=\"sitestr\">forbes.com</span></a>)</span></td></tr><tr><td colspan=\"2\"></td><td class=\"subtext\">\n",
      "        <span class=\"score\" id=\"score_22969986\">29 points</span> by <a href=\"user?id=computer23\" class=\"hnuser\">computer23</a> <span class=\"age\"><a href=\"item?id=22969986\">34 minutes ago</a></span> <span id=\"unv_22969986\"></span> | <a href=\"hide?id=22969986&amp;goto=news\">hide</a> | <a href=\"item?id=22969986\">1&nbsp;comment</a>              </td></tr>\n",
      "      <tr class=\"spacer\" style=\"height:5px\"></tr>\n",
      "                <tr class='athing' id='22965049'>\n",
      "      <td align=\"right\" valign=\"top\" class=\"title\"><span class=\"rank\">10.</span></td>      <td valign=\"top\" class=\"votelinks\"><center><a id='up_22965049' href='vote?id=22965049&amp;how=up&amp;goto=news'><div class='votearrow' title='upvote'></div></a></center></td><td class=\"title\"><a href=\"https://en.wikipedia.org/wiki/Nicomachean_Ethics\" class=\"storylink\">Nicomachean Ethics</a><span class=\"sitebit comhead\"> (<a href=\"from?site=wikipedia.org\"><span class=\"sitestr\">wikipedia.org</span></a>)</span></td></tr><tr><td colspan=\"2\"></td><td class=\"subtext\">\n",
      "        <span class=\"score\" id=\"score_22965049\">249 points</span> by <a href=\"user?id=godelmachine\" class=\"hnuser\">godelmachine</a> <span class=\"age\"><a href=\"item?id=22965049\">11 hours ago</a></span> <span id=\"unv_22965049\"></span> | <a href=\"hide?id=22965049&amp;goto=news\">hide</a> | <a href=\"item?id=22965049\">115&nbsp;comments</a>              </td></tr>\n",
      "      <tr class=\"spacer\" style=\"height:5px\"></tr>\n",
      "                <tr class='athing' id='22959023'>\n",
      "      <td align=\"right\" valign=\"top\" class=\"title\"><span class=\"rank\">11.</span></td>      <td valign=\"top\" class=\"votelinks\"><center><a id='up_22959023' href='vote?id=22959023&amp;how=up&amp;goto=news'><div class='votearrow' title='upvote'></div></a></center></td><td class=\"title\"><a href=\"http://www.bbc.com/travel/story/20200415-how-to-make-pizza-like-a-neapolitan-master\" class=\"storylink\">How to make pizza like a Neapolitan master</a><span class=\"sitebit comhead\"> (<a href=\"from?site=bbc.com\"><span class=\"sitestr\">bbc.com</span></a>)</span></td></tr><tr><td colspan=\"2\"></td><td class=\"subtext\">\n",
      "        <span class=\"score\" id=\"score_22959023\">174 points</span> by <a href=\"user?id=emptybits\" class=\"hnuser\">emptybits</a> <span class=\"age\"><a href=\"item?id=22959023\">8 hours ago</a></span> <span id=\"unv_22959023\"></span> | <a href=\"hide?id=22959023&amp;goto=news\">hide</a> | <a href=\"item?id=22959023\">173&nbsp;comments</a>              </td></tr>\n",
      "      <tr class=\"spacer\" style=\"height:5px\"></tr>\n",
      "                <tr class='athing' id='22965078'>\n",
      "      <td align=\"right\" valign=\"top\" class=\"title\"><span class=\"rank\">12.</span></td>      <td valign=\"top\" class=\"votelinks\"><center><a id='up_22965078' href='vote?id=22965078&amp;how=up&amp;goto=news'><div class='votearrow' title='upvote'></div></a></center></td><td class=\"title\"><a href=\"https://gist.github.com/raysan5/909dc6cf33ed40223eb0dfe625c0de74\" class=\"storylink\">Custom Game Engines: A Small Study</a><span class=\"sitebit comhead\"> (<a href=\"from?site=gist.github.com\"><span class=\"sitestr\">gist.github.com</span></a>)</span></td></tr><tr><td colspan=\"2\"></td><td class=\"subtext\">\n",
      "        <span class=\"score\" id=\"score_22965078\">246 points</span> by <a href=\"user?id=panic\" class=\"hnuser\">panic</a> <span class=\"age\"><a href=\"item?id=22965078\">11 hours ago</a></span> <span id=\"unv_22965078\"></span> | <a href=\"hide?id=22965078&amp;goto=news\">hide</a> | <a href=\"item?id=22965078\">108&nbsp;comments</a>              </td></tr>\n",
      "      <tr class=\"spacer\" style=\"height:5px\"></tr>\n",
      "                <tr class='athing' id='22964708'>\n",
      "      <td align=\"right\" valign=\"top\" class=\"title\"><span class=\"rank\">13.</span></td>      <td valign=\"top\" class=\"votelinks\"><center><a id='up_22964708' href='vote?id=22964708&amp;how=up&amp;goto=news'><div class='votearrow' title='upvote'></div></a></center></td><td class=\"title\"><a href=\"https://app.spectator.co.uk/2020/04/22/the-illusion-of-certainty/content.html\" class=\"storylink\">The Illusion of Certainty</a><span class=\"sitebit comhead\"> (<a href=\"from?site=spectator.co.uk\"><span class=\"sitestr\">spectator.co.uk</span></a>)</span></td></tr><tr><td colspan=\"2\"></td><td class=\"subtext\">\n",
      "        <span class=\"score\" id=\"score_22964708\">83 points</span> by <a href=\"user?id=arikr\" class=\"hnuser\">arikr</a> <span class=\"age\"><a href=\"item?id=22964708\">7 hours ago</a></span> <span id=\"unv_22964708\"></span> | <a href=\"hide?id=22964708&amp;goto=news\">hide</a> | <a href=\"item?id=22964708\">17&nbsp;comments</a>              </td></tr>\n",
      "      <tr class=\"spacer\" style=\"height:5px\"></tr>\n",
      "                <tr class='athing' id='22965187'>\n",
      "      <td align=\"right\" valign=\"top\" class=\"title\"><span class=\"rank\">14.</span></td>      <td valign=\"top\" class=\"votelinks\"><center><a id='up_22965187' href='vote?id=22965187&amp;how=up&amp;goto=news'><div class='votearrow' title='upvote'></div></a></center></td><td class=\"title\"><a href=\"https://magic.wizards.com/en/articles/archive/making-magic/what-game-2018-06-04\" class=\"storylink\">What Is a Game? (2018)</a><span class=\"sitebit comhead\"> (<a href=\"from?site=wizards.com\"><span class=\"sitestr\">wizards.com</span></a>)</span></td></tr><tr><td colspan=\"2\"></td><td class=\"subtext\">\n",
      "        <span class=\"score\" id=\"score_22965187\">27 points</span> by <a href=\"user?id=Smaug123\" class=\"hnuser\">Smaug123</a> <span class=\"age\"><a href=\"item?id=22965187\">3 hours ago</a></span> <span id=\"unv_22965187\"></span> | <a href=\"hide?id=22965187&amp;goto=news\">hide</a> | <a href=\"item?id=22965187\">12&nbsp;comments</a>              </td></tr>\n",
      "      <tr class=\"spacer\" style=\"height:5px\"></tr>\n",
      "                <tr class='athing' id='22968079'>\n",
      "      <td align=\"right\" valign=\"top\" class=\"title\"><span class=\"rank\">15.</span></td>      <td valign=\"top\" class=\"votelinks\"><center><a id='up_22968079' href='vote?id=22968079&amp;how=up&amp;goto=news'><div class='votearrow' title='upvote'></div></a></center></td><td class=\"title\"><a href=\"https://github.com/liriliri/eruda\" class=\"storylink\">Console for Mobile Browsers</a><span class=\"sitebit comhead\"> (<a href=\"from?site=github.com\"><span class=\"sitestr\">github.com</span></a>)</span></td></tr><tr><td colspan=\"2\"></td><td class=\"subtext\">\n",
      "        <span class=\"score\" id=\"score_22968079\">21 points</span> by <a href=\"user?id=rinmo\" class=\"hnuser\">rinmo</a> <span class=\"age\"><a href=\"item?id=22968079\">3 hours ago</a></span> <span id=\"unv_22968079\"></span> | <a href=\"hide?id=22968079&amp;goto=news\">hide</a> | <a href=\"item?id=22968079\">2&nbsp;comments</a>              </td></tr>\n",
      "      <tr class=\"spacer\" style=\"height:5px\"></tr>\n",
      "                <tr class='athing' id='22958675'>\n",
      "      <td align=\"right\" valign=\"top\" class=\"title\"><span class=\"rank\">16.</span></td>      <td valign=\"top\" class=\"votelinks\"><center><a id='up_22958675' href='vote?id=22958675&amp;how=up&amp;goto=news'><div class='votearrow' title='upvote'></div></a></center></td><td class=\"title\"><a href=\"https://www.youtube.com/watch?v=K7H396OOGZw\" class=\"storylink\">What about those funny shaped cars? [video]</a><span class=\"sitebit comhead\"> (<a href=\"from?site=youtube.com\"><span class=\"sitestr\">youtube.com</span></a>)</span></td></tr><tr><td colspan=\"2\"></td><td class=\"subtext\">\n",
      "        <span class=\"score\" id=\"score_22958675\">34 points</span> by <a href=\"user?id=fortran77\" class=\"hnuser\">fortran77</a> <span class=\"age\"><a href=\"item?id=22958675\">4 hours ago</a></span> <span id=\"unv_22958675\"></span> | <a href=\"hide?id=22958675&amp;goto=news\">hide</a> | <a href=\"item?id=22958675\">12&nbsp;comments</a>              </td></tr>\n",
      "      <tr class=\"spacer\" style=\"height:5px\"></tr>\n",
      "                <tr class='athing' id='22964211'>\n",
      "      <td align=\"right\" valign=\"top\" class=\"title\"><span class=\"rank\">17.</span></td>      <td valign=\"top\" class=\"votelinks\"><center><a id='up_22964211' href='vote?id=22964211&amp;how=up&amp;goto=news'><div class='votearrow' title='upvote'></div></a></center></td><td class=\"title\"><a href=\"https://blog.mozilla.org/nnethercote/2020/04/24/how-to-speed-up-the-rust-compiler-in-2020/\" class=\"storylink\">How to speed up the Rust compiler in 2020</a><span class=\"sitebit comhead\"> (<a href=\"from?site=blog.mozilla.org\"><span class=\"sitestr\">blog.mozilla.org</span></a>)</span></td></tr><tr><td colspan=\"2\"></td><td class=\"subtext\">\n",
      "        <span class=\"score\" id=\"score_22964211\">212 points</span> by <a href=\"user?id=est31\" class=\"hnuser\">est31</a> <span class=\"age\"><a href=\"item?id=22964211\">14 hours ago</a></span> <span id=\"unv_22964211\"></span> | <a href=\"hide?id=22964211&amp;goto=news\">hide</a> | <a href=\"item?id=22964211\">78&nbsp;comments</a>              </td></tr>\n",
      "      <tr class=\"spacer\" style=\"height:5px\"></tr>\n",
      "                <tr class='athing' id='22966332'>\n",
      "      <td align=\"right\" valign=\"top\" class=\"title\"><span class=\"rank\">18.</span></td>      <td valign=\"top\" class=\"votelinks\"><center><a id='up_22966332' href='vote?id=22966332&amp;how=up&amp;goto=news'><div class='votearrow' title='upvote'></div></a></center></td><td class=\"title\"><a href=\"https://stat.ethz.ch/pipermail/r-announce/2020/000653.html\" class=\"storylink\">R 4.0.0</a><span class=\"sitebit comhead\"> (<a href=\"from?site=ethz.ch\"><span class=\"sitestr\">ethz.ch</span></a>)</span></td></tr><tr><td colspan=\"2\"></td><td class=\"subtext\">\n",
      "        <span class=\"score\" id=\"score_22966332\">213 points</span> by <a href=\"user?id=KKPMW\" class=\"hnuser\">KKPMW</a> <span class=\"age\"><a href=\"item?id=22966332\">7 hours ago</a></span> <span id=\"unv_22966332\"></span> | <a href=\"hide?id=22966332&amp;goto=news\">hide</a> | <a href=\"item?id=22966332\">107&nbsp;comments</a>              </td></tr>\n",
      "      <tr class=\"spacer\" style=\"height:5px\"></tr>\n",
      "                <tr class='athing' id='22967559'>\n",
      "      <td align=\"right\" valign=\"top\" class=\"title\"><span class=\"rank\">19.</span></td>      <td valign=\"top\" class=\"votelinks\"><center><a id='up_22967559' href='vote?id=22967559&amp;how=up&amp;goto=news'><div class='votearrow' title='upvote'></div></a></center></td><td class=\"title\"><a href=\"https://www.tomshardware.com/news/wd-lists-all-drives-slower-smr-techNOLOGY\" class=\"storylink\">WD Sets the Record Straight: Lists All Drives That Use Slower SMR Tech</a><span class=\"sitebit comhead\"> (<a href=\"from?site=tomshardware.com\"><span class=\"sitestr\">tomshardware.com</span></a>)</span></td></tr><tr><td colspan=\"2\"></td><td class=\"subtext\">\n",
      "        <span class=\"score\" id=\"score_22967559\">136 points</span> by <a href=\"user?id=rbanffy\" class=\"hnuser\">rbanffy</a> <span class=\"age\"><a href=\"item?id=22967559\">4 hours ago</a></span> <span id=\"unv_22967559\"></span> | <a href=\"hide?id=22967559&amp;goto=news\">hide</a> | <a href=\"item?id=22967559\">51&nbsp;comments</a>              </td></tr>\n",
      "      <tr class=\"spacer\" style=\"height:5px\"></tr>\n",
      "                <tr class='athing' id='22968839'>\n",
      "      <td align=\"right\" valign=\"top\" class=\"title\"><span class=\"rank\">20.</span></td>      <td valign=\"top\" class=\"votelinks\"><center><a id='up_22968839' href='vote?id=22968839&amp;how=up&amp;goto=news'><div class='votearrow' title='upvote'></div></a></center></td><td class=\"title\"><a href=\"https://tech.newstatesman.com/security/whatsapp-ties-nso-groups-hacking-operations-to-america-in-new-court-evidence\" class=\"storylink\">WhatsApp ties NSO Group’s hacking operations to America in new court evidence</a><span class=\"sitebit comhead\"> (<a href=\"from?site=newstatesman.com\"><span class=\"sitestr\">newstatesman.com</span></a>)</span></td></tr><tr><td colspan=\"2\"></td><td class=\"subtext\">\n",
      "        <span class=\"score\" id=\"score_22968839\">36 points</span> by <a href=\"user?id=wlscr\" class=\"hnuser\">wlscr</a> <span class=\"age\"><a href=\"item?id=22968839\">1 hour ago</a></span> <span id=\"unv_22968839\"></span> | <a href=\"hide?id=22968839&amp;goto=news\">hide</a> | <a href=\"item?id=22968839\">1&nbsp;comment</a>              </td></tr>\n",
      "      <tr class=\"spacer\" style=\"height:5px\"></tr>\n",
      "                <tr class='athing' id='22968808'>\n",
      "      <td align=\"right\" valign=\"top\" class=\"title\"><span class=\"rank\">21.</span></td>      <td></td><td class=\"title\"><a href=\"https://jobs.lever.co/modal/6ed767bb-d614-4f3f-ada2-9642c27915f3\" class=\"storylink\" rel=\"nofollow\">Modal Is Hiring Engineers</a><span class=\"sitebit comhead\"> (<a href=\"from?site=lever.co\"><span class=\"sitestr\">lever.co</span></a>)</span></td></tr><tr><td colspan=\"2\"></td><td class=\"subtext\">\n",
      "        <span class=\"age\"><a href=\"item?id=22968808\">2 hours ago</a></span> | <a href=\"hide?id=22968808&amp;goto=news\">hide</a>      </td></tr>\n",
      "      <tr class=\"spacer\" style=\"height:5px\"></tr>\n",
      "                <tr class='athing' id='22964910'>\n",
      "      <td align=\"right\" valign=\"top\" class=\"title\"><span class=\"rank\">22.</span></td>      <td valign=\"top\" class=\"votelinks\"><center><a id='up_22964910' href='vote?id=22964910&amp;how=up&amp;goto=news'><div class='votearrow' title='upvote'></div></a></center></td><td class=\"title\"><a href=\"https://tech.preferred.jp/en/blog/working-with-configuration-in-python/\" class=\"storylink\">Best Practices for Working with Configuration in Python Applications</a><span class=\"sitebit comhead\"> (<a href=\"from?site=tech.preferred.jp\"><span class=\"sitestr\">tech.preferred.jp</span></a>)</span></td></tr><tr><td colspan=\"2\"></td><td class=\"subtext\">\n",
      "        <span class=\"score\" id=\"score_22964910\">142 points</span> by <a href=\"user?id=tgp\" class=\"hnuser\">tgp</a> <span class=\"age\"><a href=\"item?id=22964910\">11 hours ago</a></span> <span id=\"unv_22964910\"></span> | <a href=\"hide?id=22964910&amp;goto=news\">hide</a> | <a href=\"item?id=22964910\">45&nbsp;comments</a>              </td></tr>\n",
      "      <tr class=\"spacer\" style=\"height:5px\"></tr>\n",
      "                <tr class='athing' id='22964031'>\n",
      "      <td align=\"right\" valign=\"top\" class=\"title\"><span class=\"rank\">23.</span></td>      <td valign=\"top\" class=\"votelinks\"><center><a id='up_22964031' href='vote?id=22964031&amp;how=up&amp;goto=news'><div class='votearrow' title='upvote'></div></a></center></td><td class=\"title\"><a href=\"https://www.bbc.com/news/science-environment-52399373\" class=\"storylink\">'Insect apocalypse' more complicated than thought</a><span class=\"sitebit comhead\"> (<a href=\"from?site=bbc.com\"><span class=\"sitestr\">bbc.com</span></a>)</span></td></tr><tr><td colspan=\"2\"></td><td class=\"subtext\">\n",
      "        <span class=\"score\" id=\"score_22964031\">135 points</span> by <a href=\"user?id=pseudolus\" class=\"hnuser\">pseudolus</a> <span class=\"age\"><a href=\"item?id=22964031\">14 hours ago</a></span> <span id=\"unv_22964031\"></span> | <a href=\"hide?id=22964031&amp;goto=news\">hide</a> | <a href=\"item?id=22964031\">75&nbsp;comments</a>              </td></tr>\n",
      "      <tr class=\"spacer\" style=\"height:5px\"></tr>\n",
      "                <tr class='athing' id='22965767'>\n",
      "      <td align=\"right\" valign=\"top\" class=\"title\"><span class=\"rank\">24.</span></td>      <td valign=\"top\" class=\"votelinks\"><center><a id='up_22965767' href='vote?id=22965767&amp;how=up&amp;goto=news'><div class='votearrow' title='upvote'></div></a></center></td><td class=\"title\"><a href=\"https://www.quantamagazine.org/why-sex-biologists-find-new-explanations-20200423/\" class=\"storylink\">Why Sex? Biologists Find New Explanations</a><span class=\"sitebit comhead\"> (<a href=\"from?site=quantamagazine.org\"><span class=\"sitestr\">quantamagazine.org</span></a>)</span></td></tr><tr><td colspan=\"2\"></td><td class=\"subtext\">\n",
      "        <span class=\"score\" id=\"score_22965767\">95 points</span> by <a href=\"user?id=bryanrasmussen\" class=\"hnuser\">bryanrasmussen</a> <span class=\"age\"><a href=\"item?id=22965767\">8 hours ago</a></span> <span id=\"unv_22965767\"></span> | <a href=\"hide?id=22965767&amp;goto=news\">hide</a> | <a href=\"item?id=22965767\">59&nbsp;comments</a>              </td></tr>\n",
      "      <tr class=\"spacer\" style=\"height:5px\"></tr>\n",
      "                <tr class='athing' id='22964441'>\n",
      "      <td align=\"right\" valign=\"top\" class=\"title\"><span class=\"rank\">25.</span></td>      <td valign=\"top\" class=\"votelinks\"><center><a id='up_22964441' href='vote?id=22964441&amp;how=up&amp;goto=news'><div class='votearrow' title='upvote'></div></a></center></td><td class=\"title\"><a href=\"http://beza1e1.tuxen.de/articles/accidentally_turing_complete.html\" class=\"storylink\">Accidentally Turing-Complete</a><span class=\"sitebit comhead\"> (<a href=\"from?site=tuxen.de\"><span class=\"sitestr\">tuxen.de</span></a>)</span></td></tr><tr><td colspan=\"2\"></td><td class=\"subtext\">\n",
      "        <span class=\"score\" id=\"score_22964441\">124 points</span> by <a href=\"user?id=sebastialonso\" class=\"hnuser\">sebastialonso</a> <span class=\"age\"><a href=\"item?id=22964441\">13 hours ago</a></span> <span id=\"unv_22964441\"></span> | <a href=\"hide?id=22964441&amp;goto=news\">hide</a> | <a href=\"item?id=22964441\">37&nbsp;comments</a>              </td></tr>\n",
      "      <tr class=\"spacer\" style=\"height:5px\"></tr>\n",
      "                <tr class='athing' id='22963495'>\n",
      "      <td align=\"right\" valign=\"top\" class=\"title\"><span class=\"rank\">26.</span></td>      <td valign=\"top\" class=\"votelinks\"><center><a id='up_22963495' href='vote?id=22963495&amp;how=up&amp;goto=news'><div class='votearrow' title='upvote'></div></a></center></td><td class=\"title\"><a href=\"https://www.laphamsquarterly.org/roundtable/just-madrid-comrades\" class=\"storylink\">“Just Like at Madrid, Comrades”</a><span class=\"sitebit comhead\"> (<a href=\"from?site=laphamsquarterly.org\"><span class=\"sitestr\">laphamsquarterly.org</span></a>)</span></td></tr><tr><td colspan=\"2\"></td><td class=\"subtext\">\n",
      "        <span class=\"score\" id=\"score_22963495\">41 points</span> by <a href=\"user?id=Thevet\" class=\"hnuser\">Thevet</a> <span class=\"age\"><a href=\"item?id=22963495\">7 hours ago</a></span> <span id=\"unv_22963495\"></span> | <a href=\"hide?id=22963495&amp;goto=news\">hide</a> | <a href=\"item?id=22963495\">19&nbsp;comments</a>              </td></tr>\n",
      "      <tr class=\"spacer\" style=\"height:5px\"></tr>\n",
      "                <tr class='athing' id='22961296'>\n",
      "      <td align=\"right\" valign=\"top\" class=\"title\"><span class=\"rank\">27.</span></td>      <td valign=\"top\" class=\"votelinks\"><center><a id='up_22961296' href='vote?id=22961296&amp;how=up&amp;goto=news'><div class='votearrow' title='upvote'></div></a></center></td><td class=\"title\"><a href=\"https://blog.danslimmon.com/2019/08/02/stop-apologizing-for-bugs\" class=\"storylink\">I’ve made a conscious effort to stop apologizing for bugs in my code</a><span class=\"sitebit comhead\"> (<a href=\"from?site=danslimmon.com\"><span class=\"sitestr\">danslimmon.com</span></a>)</span></td></tr><tr><td colspan=\"2\"></td><td class=\"subtext\">\n",
      "        <span class=\"score\" id=\"score_22961296\">88 points</span> by <a href=\"user?id=dsr12\" class=\"hnuser\">dsr12</a> <span class=\"age\"><a href=\"item?id=22961296\">11 hours ago</a></span> <span id=\"unv_22961296\"></span> | <a href=\"hide?id=22961296&amp;goto=news\">hide</a> | <a href=\"item?id=22961296\">130&nbsp;comments</a>              </td></tr>\n",
      "      <tr class=\"spacer\" style=\"height:5px\"></tr>\n",
      "                <tr class='athing' id='22967716'>\n",
      "      <td align=\"right\" valign=\"top\" class=\"title\"><span class=\"rank\">28.</span></td>      <td valign=\"top\" class=\"votelinks\"><center><a id='up_22967716' href='vote?id=22967716&amp;how=up&amp;goto=news'><div class='votearrow' title='upvote'></div></a></center></td><td class=\"title\"><a href=\"https://masilotti.com/play-board-games-online/\" class=\"storylink\">How to play board games online with your friends</a><span class=\"sitebit comhead\"> (<a href=\"from?site=masilotti.com\"><span class=\"sitestr\">masilotti.com</span></a>)</span></td></tr><tr><td colspan=\"2\"></td><td class=\"subtext\">\n",
      "        <span class=\"score\" id=\"score_22967716\">108 points</span> by <a href=\"user?id=joemasilotti\" class=\"hnuser\">joemasilotti</a> <span class=\"age\"><a href=\"item?id=22967716\">3 hours ago</a></span> <span id=\"unv_22967716\"></span> | <a href=\"hide?id=22967716&amp;goto=news\">hide</a> | <a href=\"item?id=22967716\">129&nbsp;comments</a>              </td></tr>\n",
      "      <tr class=\"spacer\" style=\"height:5px\"></tr>\n",
      "                <tr class='athing' id='22959351'>\n",
      "      <td align=\"right\" valign=\"top\" class=\"title\"><span class=\"rank\">29.</span></td>      <td valign=\"top\" class=\"votelinks\"><center><a id='up_22959351' href='vote?id=22959351&amp;how=up&amp;goto=news'><div class='votearrow' title='upvote'></div></a></center></td><td class=\"title\"><a href=\"https://www.bloomberg.com/news/articles/2020-04-21/well-heeled-mortgage-borrowers-face-cold-shoulder-from-lenders\" class=\"storylink\">Wealthy mortgage borrowers face cold shoulder from lenders</a><span class=\"sitebit comhead\"> (<a href=\"from?site=bloomberg.com\"><span class=\"sitestr\">bloomberg.com</span></a>)</span></td></tr><tr><td colspan=\"2\"></td><td class=\"subtext\">\n",
      "        <span class=\"score\" id=\"score_22959351\">53 points</span> by <a href=\"user?id=aazaa\" class=\"hnuser\">aazaa</a> <span class=\"age\"><a href=\"item?id=22959351\">9 hours ago</a></span> <span id=\"unv_22959351\"></span> | <a href=\"hide?id=22959351&amp;goto=news\">hide</a> | <a href=\"item?id=22959351\">142&nbsp;comments</a>              </td></tr>\n",
      "      <tr class=\"spacer\" style=\"height:5px\"></tr>\n",
      "                <tr class='athing' id='22969987'>\n",
      "      <td align=\"right\" valign=\"top\" class=\"title\"><span class=\"rank\">30.</span></td>      <td valign=\"top\" class=\"votelinks\"><center><a id='up_22969987' href='vote?id=22969987&amp;how=up&amp;goto=news'><div class='votearrow' title='upvote'></div></a></center></td><td class=\"title\"><a href=\"https://rssdss.design.blog/2020/04/24/the-effectiveness-of-cloth-masks-has-been-misrepresented-by-masks4all/\" class=\"storylink\" rel=\"nofollow\">The effectiveness of cloth masks has been misrepresented by Masks4All</a><span class=\"sitebit comhead\"> (<a href=\"from?site=design.blog\"><span class=\"sitestr\">design.blog</span></a>)</span></td></tr><tr><td colspan=\"2\"></td><td class=\"subtext\">\n",
      "        <span class=\"score\" id=\"score_22969987\">3 points</span> by <a href=\"user?id=martingoodson\" class=\"hnuser\">martingoodson</a> <span class=\"age\"><a href=\"item?id=22969987\">34 minutes ago</a></span> <span id=\"unv_22969987\"></span> | <a href=\"hide?id=22969987&amp;goto=news\">hide</a> | <a href=\"item?id=22969987\">discuss</a>              </td></tr>\n",
      "      <tr class=\"spacer\" style=\"height:5px\"></tr>\n",
      "            <tr class=\"morespace\" style=\"height:10px\"></tr><tr><td colspan=\"2\"></td><td class=\"title\"><a href=\"news?p=2\" class=\"morelink\" rel=\"next\">More</a></td></tr>\n",
      "  </table>\n",
      "</td></tr>\n",
      "<tr><td><img src=\"s.gif\" height=\"10\" width=\"0\"><table width=\"100%\" cellspacing=\"0\" cellpadding=\"1\"><tr><td bgcolor=\"#ff6600\"></td></tr></table><br><center><span class=\"yclinks\"><a href=\"newsguidelines.html\">Guidelines</a>\n",
      "        | <a href=\"newsfaq.html\">FAQ</a>\n",
      "        | <a href=\"mailto:hn@ycombinator.com\">Support</a>\n",
      "        | <a href=\"https://github.com/HackerNews/API\">API</a>\n",
      "        | <a href=\"security.html\">Security</a>\n",
      "        | <a href=\"lists\">Lists</a>\n",
      "        | <a href=\"bookmarklet.html\" rel=\"nofollow\">Bookmarklet</a>\n",
      "        | <a href=\"http://www.ycombinator.com/legal/\">Legal</a>\n",
      "        | <a href=\"http://www.ycombinator.com/apply/\">Apply to YC</a>\n",
      "        | <a href=\"mailto:hn@ycombinator.com\">Contact</a></span><br><br><form method=\"get\" action=\"//hn.algolia.com/\">Search:\n",
      "          <input type=\"text\" name=\"q\" value=\"\" size=\"17\" autocorrect=\"off\" spellcheck=\"false\" autocapitalize=\"off\" autocomplete=\"false\"></form>\n",
      "            </center></td></tr>\n",
      "      </table></center></body><script type='text/javascript' src='hn.js?whWqsioallHIQiqI98Kn'></script></html>\n",
      "\n"
     ]
    }
   ],
   "source": [
    "import requests\n",
    "\n",
    "# Fetch a web page\n",
    "# r = requests.get(\"https://www.udacity.com/courses/all\")\n",
    "\n",
    "r = requests.get(\"https://news.ycombinator.com\")\n",
    "print(r.text)"
   ]
  },
  {
   "cell_type": "code",
   "execution_count": 9,
   "metadata": {},
   "outputs": [
    {
     "name": "stdout",
     "output_type": "stream",
     "text": [
      "\n",
      "        \n",
      "          \n",
      "        Hacker News\n",
      "        \n",
      "                  Hacker News\n",
      "              new | past | comments | ask | show | jobs | submit            \n",
      "                              login\n",
      "                          \n",
      "              \n",
      "\n",
      "              \n",
      "      1.      Lenovo to Begin Shipping ThinkPad Laptops with Fedora Pre-Installed (fedoramagazine.org)\n",
      "        238 points by caution 2 hours ago  | hide | 112&nbsp;comments              \n",
      "      \n",
      "                \n",
      "      2.      Agile's early evangelists wouldn't mind watching Agile die (builtin.com)\n",
      "        95 points by prepperpotts 1 hour ago  | hide | 57&nbsp;comments              \n",
      "      \n",
      "                \n",
      "      3.      Ultraviolet Irradiation of Blood: “The Cure That Time Forgot”? (2018) (nih.gov)\n",
      "        178 points by yoloswagins 3 hours ago  | hide | 296&nbsp;comments              \n",
      "      \n",
      "                \n",
      "      4.      Career advice for people with bad luck (chiefofstuff.substack.com)\n",
      "        535 points by Reedx 8 hours ago  | hide | 264&nbsp;comments              \n",
      "      \n",
      "                \n",
      "      5.      Medical staff say virus stigma driving Tokyo hospitals to edge of collapse (japantimes.co.jp)\n",
      "        94 points by everybodyknows 2 hours ago  | hide | 56&nbsp;comments              \n",
      "      \n",
      "                \n",
      "      6.      Which is better on Android: divide by 2 or shift by 1? (jakewharton.com)\n",
      "        37 points by zdw 2 hours ago  | hide | 13&nbsp;comments              \n",
      "      \n",
      "                \n",
      "      7.      Museum of Computer Adventure Game History (mocagh.org)\n",
      "        11 points by raleighm 1 hour ago  | hide | discuss              \n",
      "      \n",
      "                \n",
      "      8.      What It’s Like Inside a Chip Foundry During the Covid-19 Pandemic (ieee.org)\n",
      "        13 points by segfaultbuserr 34 minutes ago  | hide | 3&nbsp;comments              \n",
      "      \n",
      "                \n",
      "      9.      Charlatans sell bogus treatment exposing blood to UV light (2016) (forbes.com)\n",
      "        29 points by computer23 34 minutes ago  | hide | 1&nbsp;comment              \n",
      "      \n",
      "                \n",
      "      10.      Nicomachean Ethics (wikipedia.org)\n",
      "        249 points by godelmachine 11 hours ago  | hide | 115&nbsp;comments              \n",
      "      \n",
      "                \n",
      "      11.      How to make pizza like a Neapolitan master (bbc.com)\n",
      "        174 points by emptybits 8 hours ago  | hide | 173&nbsp;comments              \n",
      "      \n",
      "                \n",
      "      12.      Custom Game Engines: A Small Study (gist.github.com)\n",
      "        246 points by panic 11 hours ago  | hide | 108&nbsp;comments              \n",
      "      \n",
      "                \n",
      "      13.      The Illusion of Certainty (spectator.co.uk)\n",
      "        83 points by arikr 7 hours ago  | hide | 17&nbsp;comments              \n",
      "      \n",
      "                \n",
      "      14.      What Is a Game? (2018) (wizards.com)\n",
      "        27 points by Smaug123 3 hours ago  | hide | 12&nbsp;comments              \n",
      "      \n",
      "                \n",
      "      15.      Console for Mobile Browsers (github.com)\n",
      "        21 points by rinmo 3 hours ago  | hide | 2&nbsp;comments              \n",
      "      \n",
      "                \n",
      "      16.      What about those funny shaped cars? [video] (youtube.com)\n",
      "        34 points by fortran77 4 hours ago  | hide | 12&nbsp;comments              \n",
      "      \n",
      "                \n",
      "      17.      How to speed up the Rust compiler in 2020 (blog.mozilla.org)\n",
      "        212 points by est31 14 hours ago  | hide | 78&nbsp;comments              \n",
      "      \n",
      "                \n",
      "      18.      R 4.0.0 (ethz.ch)\n",
      "        213 points by KKPMW 7 hours ago  | hide | 107&nbsp;comments              \n",
      "      \n",
      "                \n",
      "      19.      WD Sets the Record Straight: Lists All Drives That Use Slower SMR Tech (tomshardware.com)\n",
      "        136 points by rbanffy 4 hours ago  | hide | 51&nbsp;comments              \n",
      "      \n",
      "                \n",
      "      20.      WhatsApp ties NSO Group’s hacking operations to America in new court evidence (newstatesman.com)\n",
      "        36 points by wlscr 1 hour ago  | hide | 1&nbsp;comment              \n",
      "      \n",
      "                \n",
      "      21.      Modal Is Hiring Engineers (lever.co)\n",
      "        2 hours ago | hide      \n",
      "      \n",
      "                \n",
      "      22.      Best Practices for Working with Configuration in Python Applications (tech.preferred.jp)\n",
      "        142 points by tgp 11 hours ago  | hide | 45&nbsp;comments              \n",
      "      \n",
      "                \n",
      "      23.      'Insect apocalypse' more complicated than thought (bbc.com)\n",
      "        135 points by pseudolus 14 hours ago  | hide | 75&nbsp;comments              \n",
      "      \n",
      "                \n",
      "      24.      Why Sex? Biologists Find New Explanations (quantamagazine.org)\n",
      "        95 points by bryanrasmussen 8 hours ago  | hide | 59&nbsp;comments              \n",
      "      \n",
      "                \n",
      "      25.      Accidentally Turing-Complete (tuxen.de)\n",
      "        124 points by sebastialonso 13 hours ago  | hide | 37&nbsp;comments              \n",
      "      \n",
      "                \n",
      "      26.      “Just Like at Madrid, Comrades” (laphamsquarterly.org)\n",
      "        41 points by Thevet 7 hours ago  | hide | 19&nbsp;comments              \n",
      "      \n",
      "                \n",
      "      27.      I’ve made a conscious effort to stop apologizing for bugs in my code (danslimmon.com)\n",
      "        88 points by dsr12 11 hours ago  | hide | 130&nbsp;comments              \n",
      "      \n",
      "                \n",
      "      28.      How to play board games online with your friends (masilotti.com)\n",
      "        108 points by joemasilotti 3 hours ago  | hide | 129&nbsp;comments              \n",
      "      \n",
      "                \n",
      "      29.      Wealthy mortgage borrowers face cold shoulder from lenders (bloomberg.com)\n",
      "        53 points by aazaa 9 hours ago  | hide | 142&nbsp;comments              \n",
      "      \n",
      "                \n",
      "      30.      The effectiveness of cloth masks has been misrepresented by Masks4All (design.blog)\n",
      "        3 points by martingoodson 34 minutes ago  | hide | discuss              \n",
      "      \n",
      "            More\n",
      "  \n",
      "\n",
      "Guidelines\n",
      "        | FAQ\n",
      "        | Support\n",
      "        | API\n",
      "        | Security\n",
      "        | Lists\n",
      "        | Bookmarklet\n",
      "        | Legal\n",
      "        | Apply to YC\n",
      "        | ContactSearch:\n",
      "          \n",
      "            \n",
      "      \n",
      "\n"
     ]
    }
   ],
   "source": [
    "import re\n",
    "\n",
    "# Remove HTML tags using RegEx\n",
    "pattern = re.compile(r'<.*?>')  # tags look like <...>\n",
    "print(pattern.sub('', r.text))  # replace them with blank"
   ]
  },
  {
   "cell_type": "code",
   "execution_count": 10,
   "metadata": {},
   "outputs": [
    {
     "name": "stdout",
     "output_type": "stream",
     "text": [
      "\n",
      "        \n",
      "          \n",
      "        Hacker News\n",
      "        \n",
      "                  Hacker News\n",
      "              new | past | comments | ask | show | jobs | submit            \n",
      "                              login\n",
      "                          \n",
      "              \n",
      "\n",
      "              \n",
      "      1.      Lenovo to Begin Shipping ThinkPad Laptops with Fedora Pre-Installed (fedoramagazine.org)\n",
      "        238 points by caution 2 hours ago  | hide | 112 comments              \n",
      "      \n",
      "                \n",
      "      2.      Agile's early evangelists wouldn't mind watching Agile die (builtin.com)\n",
      "        95 points by prepperpotts 1 hour ago  | hide | 57 comments              \n",
      "      \n",
      "                \n",
      "      3.      Ultraviolet Irradiation of Blood: “The Cure That Time Forgot”? (2018) (nih.gov)\n",
      "        178 points by yoloswagins 3 hours ago  | hide | 296 comments              \n",
      "      \n",
      "                \n",
      "      4.      Career advice for people with bad luck (chiefofstuff.substack.com)\n",
      "        535 points by Reedx 8 hours ago  | hide | 264 comments              \n",
      "      \n",
      "                \n",
      "      5.      Medical staff say virus stigma driving Tokyo hospitals to edge of collapse (japantimes.co.jp)\n",
      "        94 points by everybodyknows 2 hours ago  | hide | 56 comments              \n",
      "      \n",
      "                \n",
      "      6.      Which is better on Android: divide by 2 or shift by 1? (jakewharton.com)\n",
      "        37 points by zdw 2 hours ago  | hide | 13 comments              \n",
      "      \n",
      "                \n",
      "      7.      Museum of Computer Adventure Game History (mocagh.org)\n",
      "        11 points by raleighm 1 hour ago  | hide | discuss              \n",
      "      \n",
      "                \n",
      "      8.      What It’s Like Inside a Chip Foundry During the Covid-19 Pandemic (ieee.org)\n",
      "        13 points by segfaultbuserr 34 minutes ago  | hide | 3 comments              \n",
      "      \n",
      "                \n",
      "      9.      Charlatans sell bogus treatment exposing blood to UV light (2016) (forbes.com)\n",
      "        29 points by computer23 34 minutes ago  | hide | 1 comment              \n",
      "      \n",
      "                \n",
      "      10.      Nicomachean Ethics (wikipedia.org)\n",
      "        249 points by godelmachine 11 hours ago  | hide | 115 comments              \n",
      "      \n",
      "                \n",
      "      11.      How to make pizza like a Neapolitan master (bbc.com)\n",
      "        174 points by emptybits 8 hours ago  | hide | 173 comments              \n",
      "      \n",
      "                \n",
      "      12.      Custom Game Engines: A Small Study (gist.github.com)\n",
      "        246 points by panic 11 hours ago  | hide | 108 comments              \n",
      "      \n",
      "                \n",
      "      13.      The Illusion of Certainty (spectator.co.uk)\n",
      "        83 points by arikr 7 hours ago  | hide | 17 comments              \n",
      "      \n",
      "                \n",
      "      14.      What Is a Game? (2018) (wizards.com)\n",
      "        27 points by Smaug123 3 hours ago  | hide | 12 comments              \n",
      "      \n",
      "                \n",
      "      15.      Console for Mobile Browsers (github.com)\n",
      "        21 points by rinmo 3 hours ago  | hide | 2 comments              \n",
      "      \n",
      "                \n",
      "      16.      What about those funny shaped cars? [video] (youtube.com)\n",
      "        34 points by fortran77 4 hours ago  | hide | 12 comments              \n",
      "      \n",
      "                \n",
      "      17.      How to speed up the Rust compiler in 2020 (blog.mozilla.org)\n",
      "        212 points by est31 14 hours ago  | hide | 78 comments              \n",
      "      \n",
      "                \n",
      "      18.      R 4.0.0 (ethz.ch)\n",
      "        213 points by KKPMW 7 hours ago  | hide | 107 comments              \n",
      "      \n",
      "                \n",
      "      19.      WD Sets the Record Straight: Lists All Drives That Use Slower SMR Tech (tomshardware.com)\n",
      "        136 points by rbanffy 4 hours ago  | hide | 51 comments              \n",
      "      \n",
      "                \n",
      "      20.      WhatsApp ties NSO Group’s hacking operations to America in new court evidence (newstatesman.com)\n",
      "        36 points by wlscr 1 hour ago  | hide | 1 comment              \n",
      "      \n",
      "                \n",
      "      21.      Modal Is Hiring Engineers (lever.co)\n",
      "        2 hours ago | hide      \n",
      "      \n",
      "                \n",
      "      22.      Best Practices for Working with Configuration in Python Applications (tech.preferred.jp)\n",
      "        142 points by tgp 11 hours ago  | hide | 45 comments              \n",
      "      \n",
      "                \n",
      "      23.      'Insect apocalypse' more complicated than thought (bbc.com)\n",
      "        135 points by pseudolus 14 hours ago  | hide | 75 comments              \n",
      "      \n",
      "                \n",
      "      24.      Why Sex? Biologists Find New Explanations (quantamagazine.org)\n",
      "        95 points by bryanrasmussen 8 hours ago  | hide | 59 comments              \n",
      "      \n",
      "                \n",
      "      25.      Accidentally Turing-Complete (tuxen.de)\n",
      "        124 points by sebastialonso 13 hours ago  | hide | 37 comments              \n",
      "      \n",
      "                \n",
      "      26.      “Just Like at Madrid, Comrades” (laphamsquarterly.org)\n",
      "        41 points by Thevet 7 hours ago  | hide | 19 comments              \n",
      "      \n",
      "                \n",
      "      27.      I’ve made a conscious effort to stop apologizing for bugs in my code (danslimmon.com)\n",
      "        88 points by dsr12 11 hours ago  | hide | 130 comments              \n",
      "      \n",
      "                \n",
      "      28.      How to play board games online with your friends (masilotti.com)\n",
      "        108 points by joemasilotti 3 hours ago  | hide | 129 comments              \n",
      "      \n",
      "                \n",
      "      29.      Wealthy mortgage borrowers face cold shoulder from lenders (bloomberg.com)\n",
      "        53 points by aazaa 9 hours ago  | hide | 142 comments              \n",
      "      \n",
      "                \n",
      "      30.      The effectiveness of cloth masks has been misrepresented by Masks4All (design.blog)\n",
      "        3 points by martingoodson 34 minutes ago  | hide | discuss              \n",
      "      \n",
      "            More\n",
      "  \n",
      "\n",
      "Guidelines\n",
      "        | FAQ\n",
      "        | Support\n",
      "        | API\n",
      "        | Security\n",
      "        | Lists\n",
      "        | Bookmarklet\n",
      "        | Legal\n",
      "        | Apply to YC\n",
      "        | ContactSearch:\n",
      "          \n",
      "            \n",
      "      \n",
      "\n"
     ]
    }
   ],
   "source": [
    "from bs4 import BeautifulSoup\n",
    "\n",
    "# Remove HTML tags using Beautiful Soup library\n",
    "soup = BeautifulSoup(r.text, \"html5lib\")\n",
    "print(soup.get_text())"
   ]
  },
  {
   "cell_type": "code",
   "execution_count": 11,
   "metadata": {
    "scrolled": true
   },
   "outputs": [
    {
     "data": {
      "text/plain": [
       "<tr class=\"athing\" id=\"22968280\">\n",
       "      <td align=\"right\" class=\"title\" valign=\"top\"><span class=\"rank\">1.</span></td>      <td class=\"votelinks\" valign=\"top\"><center><a href=\"vote?id=22968280&amp;how=up&amp;goto=news\" id=\"up_22968280\"><div class=\"votearrow\" title=\"upvote\"></div></a></center></td><td class=\"title\"><a class=\"storylink\" href=\"https://fedoramagazine.org/coming-soon-fedora-on-lenovo-laptops/\">Lenovo to Begin Shipping ThinkPad Laptops with Fedora Pre-Installed</a><span class=\"sitebit comhead\"> (<a href=\"from?site=fedoramagazine.org\"><span class=\"sitestr\">fedoramagazine.org</span></a>)</span></td></tr>"
      ]
     },
     "execution_count": 11,
     "metadata": {},
     "output_type": "execute_result"
    }
   ],
   "source": [
    "# Find all articles\n",
    "summaries = soup.find_all(\"tr\", class_=\"athing\")\n",
    "summaries[0]"
   ]
  },
  {
   "cell_type": "code",
   "execution_count": 12,
   "metadata": {},
   "outputs": [
    {
     "data": {
      "text/plain": [
       "'Lenovo to Begin Shipping ThinkPad Laptops with Fedora Pre-Installed'"
      ]
     },
     "execution_count": 12,
     "metadata": {},
     "output_type": "execute_result"
    }
   ],
   "source": [
    "# Extract title\n",
    "summaries[0].find(\"a\", class_=\"storylink\").get_text().strip()"
   ]
  },
  {
   "cell_type": "code",
   "execution_count": 13,
   "metadata": {},
   "outputs": [
    {
     "name": "stdout",
     "output_type": "stream",
     "text": [
      "30 Article summaries found. Sample:\n",
      "Lenovo to Begin Shipping ThinkPad Laptops with Fedora Pre-Installed\n"
     ]
    }
   ],
   "source": [
    "# Find all articles, extract titles\n",
    "articles = []\n",
    "summaries = soup.find_all(\"tr\", class_=\"athing\")\n",
    "for summary in summaries:\n",
    "    title = summary.find(\"a\", class_=\"storylink\").get_text().strip()\n",
    "    articles.append((title))\n",
    "\n",
    "print(len(articles), \"Article summaries found. Sample:\")\n",
    "print(articles[0])"
   ]
  },
  {
   "cell_type": "markdown",
   "metadata": {
    "collapsed": true
   },
   "source": [
    "## Normalization"
   ]
  },
  {
   "cell_type": "markdown",
   "metadata": {},
   "source": [
    "### Case Normalization"
   ]
  },
  {
   "cell_type": "code",
   "execution_count": 14,
   "metadata": {},
   "outputs": [
    {
     "name": "stdout",
     "output_type": "stream",
     "text": [
      "The first time you see The Second Renaissance it may look boring. Look at it at least twice and definitely watch part 2. It will change your view of the matrix. Are the human people the ones who started the war ? Is AI a bad thing ?\n"
     ]
    }
   ],
   "source": [
    "# Sample text\n",
    "text = \"The first time you see The Second Renaissance it may look boring. Look at it at least twice and definitely watch part 2. It will change your view of the matrix. Are the human people the ones who started the war ? Is AI a bad thing ?\"\n",
    "print(text)"
   ]
  },
  {
   "cell_type": "code",
   "execution_count": 15,
   "metadata": {},
   "outputs": [
    {
     "name": "stdout",
     "output_type": "stream",
     "text": [
      "the first time you see the second renaissance it may look boring. look at it at least twice and definitely watch part 2. it will change your view of the matrix. are the human people the ones who started the war ? is ai a bad thing ?\n"
     ]
    }
   ],
   "source": [
    "# Convert to lowercase\n",
    "text = text.lower() \n",
    "print(text)"
   ]
  },
  {
   "cell_type": "markdown",
   "metadata": {},
   "source": [
    "### Punctuation Removal"
   ]
  },
  {
   "cell_type": "code",
   "execution_count": 16,
   "metadata": {},
   "outputs": [
    {
     "name": "stdout",
     "output_type": "stream",
     "text": [
      "the first time you see the second renaissance it may look boring  look at it at least twice and definitely watch part 2  it will change your view of the matrix  are the human people the ones who started the war   is ai a bad thing  \n"
     ]
    }
   ],
   "source": [
    "import re\n",
    "\n",
    "# Remove punctuation characters\n",
    "text = re.sub(r\"[^a-zA-Z0-9]\", \" \", text) \n",
    "print(text)"
   ]
  },
  {
   "cell_type": "markdown",
   "metadata": {},
   "source": [
    "### Alternative\n",
    "```\n",
    "import re\n",
    "\n",
    "# Remove punctuation characters\n",
    "text = re.sub(r\"\\W\", \" \", text) \n",
    "print(text)\n",
    "```"
   ]
  },
  {
   "cell_type": "markdown",
   "metadata": {},
   "source": [
    "## Tokenization"
   ]
  },
  {
   "cell_type": "code",
   "execution_count": 17,
   "metadata": {},
   "outputs": [
    {
     "name": "stdout",
     "output_type": "stream",
     "text": [
      "['the', 'first', 'time', 'you', 'see', 'the', 'second', 'renaissance', 'it', 'may', 'look', 'boring', 'look', 'at', 'it', 'at', 'least', 'twice', 'and', 'definitely', 'watch', 'part', '2', 'it', 'will', 'change', 'your', 'view', 'of', 'the', 'matrix', 'are', 'the', 'human', 'people', 'the', 'ones', 'who', 'started', 'the', 'war', 'is', 'ai', 'a', 'bad', 'thing']\n"
     ]
    }
   ],
   "source": [
    "# Split text into tokens (words)\n",
    "words = text.split()\n",
    "print(words)"
   ]
  },
  {
   "cell_type": "markdown",
   "metadata": {},
   "source": [
    "### NLTK: Natural Language ToolKit"
   ]
  },
  {
   "cell_type": "code",
   "execution_count": 18,
   "metadata": {},
   "outputs": [],
   "source": [
    "import os\n",
    "import nltk\n",
    "nltk.data.path.append(os.path.join(os.getcwd(), \"nltk_data\"))"
   ]
  },
  {
   "cell_type": "code",
   "execution_count": 19,
   "metadata": {},
   "outputs": [
    {
     "name": "stdout",
     "output_type": "stream",
     "text": [
      "Dr. Smith graduated from the University of Washington. He later started an analytics firm called Lux, which catered to enterprise customers.\n"
     ]
    }
   ],
   "source": [
    "# Another sample text\n",
    "text = \"Dr. Smith graduated from the University of Washington. He later started an analytics firm called Lux, which catered to enterprise customers.\"\n",
    "print(text)"
   ]
  },
  {
   "cell_type": "code",
   "execution_count": 20,
   "metadata": {},
   "outputs": [
    {
     "name": "stdout",
     "output_type": "stream",
     "text": [
      "['Dr.', 'Smith', 'graduated', 'from', 'the', 'University', 'of', 'Washington', '.', 'He', 'later', 'started', 'an', 'analytics', 'firm', 'called', 'Lux', ',', 'which', 'catered', 'to', 'enterprise', 'customers', '.']\n"
     ]
    }
   ],
   "source": [
    "from nltk.tokenize import word_tokenize\n",
    "\n",
    "# Split text into words using NLTK\n",
    "words = word_tokenize(text)\n",
    "print(words)"
   ]
  },
  {
   "cell_type": "code",
   "execution_count": 21,
   "metadata": {},
   "outputs": [],
   "source": [
    "from nltk.tokenize import regexp_tokenize"
   ]
  },
  {
   "cell_type": "code",
   "execution_count": 22,
   "metadata": {},
   "outputs": [
    {
     "data": {
      "text/plain": [
       "['Dr',\n",
       " 'Smith',\n",
       " 'graduated',\n",
       " 'from',\n",
       " 'the',\n",
       " 'University',\n",
       " 'of',\n",
       " 'Washington',\n",
       " 'He',\n",
       " 'later',\n",
       " 'started',\n",
       " 'an',\n",
       " 'analytics',\n",
       " 'firm',\n",
       " 'called',\n",
       " 'Lux',\n",
       " 'which',\n",
       " 'catered',\n",
       " 'to',\n",
       " 'enterprise',\n",
       " 'customers']"
      ]
     },
     "execution_count": 22,
     "metadata": {},
     "output_type": "execute_result"
    }
   ],
   "source": [
    "regexp_tokenize(text, r\"\\w+\")"
   ]
  },
  {
   "cell_type": "code",
   "execution_count": 23,
   "metadata": {},
   "outputs": [
    {
     "name": "stdout",
     "output_type": "stream",
     "text": [
      "['Dr. Smith graduated from the University of Washington.', 'He later started an analytics firm called Lux, which catered to enterprise customers.']\n"
     ]
    }
   ],
   "source": [
    "from nltk.tokenize import sent_tokenize\n",
    "\n",
    "# Split text into sentences\n",
    "sentences = sent_tokenize(text)\n",
    "print(sentences)"
   ]
  },
  {
   "cell_type": "code",
   "execution_count": 24,
   "metadata": {},
   "outputs": [
    {
     "name": "stdout",
     "output_type": "stream",
     "text": [
      "['i', 'me', 'my', 'myself', 'we', 'our', 'ours', 'ourselves', 'you', \"you're\", \"you've\", \"you'll\", \"you'd\", 'your', 'yours', 'yourself', 'yourselves', 'he', 'him', 'his', 'himself', 'she', \"she's\", 'her', 'hers', 'herself', 'it', \"it's\", 'its', 'itself', 'they', 'them', 'their', 'theirs', 'themselves', 'what', 'which', 'who', 'whom', 'this', 'that', \"that'll\", 'these', 'those', 'am', 'is', 'are', 'was', 'were', 'be', 'been', 'being', 'have', 'has', 'had', 'having', 'do', 'does', 'did', 'doing', 'a', 'an', 'the', 'and', 'but', 'if', 'or', 'because', 'as', 'until', 'while', 'of', 'at', 'by', 'for', 'with', 'about', 'against', 'between', 'into', 'through', 'during', 'before', 'after', 'above', 'below', 'to', 'from', 'up', 'down', 'in', 'out', 'on', 'off', 'over', 'under', 'again', 'further', 'then', 'once', 'here', 'there', 'when', 'where', 'why', 'how', 'all', 'any', 'both', 'each', 'few', 'more', 'most', 'other', 'some', 'such', 'no', 'nor', 'not', 'only', 'own', 'same', 'so', 'than', 'too', 'very', 's', 't', 'can', 'will', 'just', 'don', \"don't\", 'should', \"should've\", 'now', 'd', 'll', 'm', 'o', 're', 've', 'y', 'ain', 'aren', \"aren't\", 'couldn', \"couldn't\", 'didn', \"didn't\", 'doesn', \"doesn't\", 'hadn', \"hadn't\", 'hasn', \"hasn't\", 'haven', \"haven't\", 'isn', \"isn't\", 'ma', 'mightn', \"mightn't\", 'mustn', \"mustn't\", 'needn', \"needn't\", 'shan', \"shan't\", 'shouldn', \"shouldn't\", 'wasn', \"wasn't\", 'weren', \"weren't\", 'won', \"won't\", 'wouldn', \"wouldn't\"]\n"
     ]
    }
   ],
   "source": [
    "# List stop words\n",
    "from nltk.corpus import stopwords\n",
    "print(stopwords.words(\"english\"))"
   ]
  },
  {
   "cell_type": "code",
   "execution_count": 25,
   "metadata": {},
   "outputs": [
    {
     "name": "stdout",
     "output_type": "stream",
     "text": [
      "['the', 'first', 'time', 'you', 'see', 'the', 'second', 'renaissance', 'it', 'may', 'look', 'boring', 'look', 'at', 'it', 'at', 'least', 'twice', 'and', 'definitely', 'watch', 'part', '2', 'it', 'will', 'change', 'your', 'view', 'of', 'the', 'matrix', 'are', 'the', 'human', 'people', 'the', 'ones', 'who', 'started', 'the', 'war', 'is', 'ai', 'a', 'bad', 'thing']\n"
     ]
    }
   ],
   "source": [
    "# Reset text\n",
    "text = \"The first time you see The Second Renaissance it may look boring. Look at it at least twice and definitely watch part 2. It will change your view of the matrix. Are the human people the ones who started the war ? Is AI a bad thing ?\"\n",
    "\n",
    "# Normalize it\n",
    "text = re.sub(r\"[^a-zA-Z0-9]\", \" \", text.lower())\n",
    "\n",
    "# Tokenize it\n",
    "words = text.split()\n",
    "print(words)"
   ]
  },
  {
   "cell_type": "code",
   "execution_count": 26,
   "metadata": {},
   "outputs": [
    {
     "name": "stdout",
     "output_type": "stream",
     "text": [
      "['first', 'time', 'see', 'second', 'renaissance', 'may', 'look', 'boring', 'look', 'least', 'twice', 'definitely', 'watch', 'part', '2', 'change', 'view', 'matrix', 'human', 'people', 'ones', 'started', 'war', 'ai', 'bad', 'thing']\n"
     ]
    }
   ],
   "source": [
    "# Remove stop words\n",
    "words = [w for w in words if w not in stopwords.words(\"english\")]\n",
    "print(words)"
   ]
  },
  {
   "cell_type": "markdown",
   "metadata": {},
   "source": [
    "### Sentence Parsing"
   ]
  },
  {
   "cell_type": "code",
   "execution_count": 30,
   "metadata": {},
   "outputs": [
    {
     "name": "stdout",
     "output_type": "stream",
     "text": [
      "[nltk_data] Downloading package averaged_perceptron_tagger to\n",
      "[nltk_data]     /root/nltk_data...\n",
      "[nltk_data]   Unzipping taggers/averaged_perceptron_tagger.zip.\n"
     ]
    },
    {
     "data": {
      "text/plain": [
       "True"
      ]
     },
     "execution_count": 30,
     "metadata": {},
     "output_type": "execute_result"
    }
   ],
   "source": [
    "# nltk.download('averaged_perceptron_tagger')\n"
   ]
  },
  {
   "cell_type": "code",
   "execution_count": 38,
   "metadata": {},
   "outputs": [
    {
     "name": "stdout",
     "output_type": "stream",
     "text": [
      "[('Antonio', 'NNP'), ('joined', 'VBD'), ('Udacity', 'NNP'), ('Inc.', 'NNP'), ('in', 'IN'), ('California', 'NNP')]\n"
     ]
    }
   ],
   "source": [
    "from nltk import pos_tag\n",
    "pos_tags = pos_tag(word_tokenize(\"Antonio joined Udacity Inc. in California\"))\n",
    "\n",
    "print(pos_tags)"
   ]
  },
  {
   "cell_type": "code",
   "execution_count": 39,
   "metadata": {},
   "outputs": [
    {
     "name": "stdout",
     "output_type": "stream",
     "text": [
      "(S\n",
      "  (NP I)\n",
      "  (VP\n",
      "    (VP (V shot) (NP (Det an) (N elephant)))\n",
      "    (PP (P in) (NP (Det my) (N pajamas)))))\n",
      "(S\n",
      "  (NP I)\n",
      "  (VP\n",
      "    (V shot)\n",
      "    (NP (Det an) (N elephant) (PP (P in) (NP (Det my) (N pajamas))))))\n"
     ]
    }
   ],
   "source": [
    "import nltk\n",
    "\n",
    "# Define a custom grammar\n",
    "my_grammar = nltk.CFG.fromstring(\"\"\"\n",
    "S -> NP VP\n",
    "PP -> P NP\n",
    "NP -> Det N | Det N PP | 'I'\n",
    "VP -> V NP | VP PP\n",
    "Det -> 'an' | 'my'\n",
    "N -> 'elephant' | 'pajamas'\n",
    "V -> 'shot'\n",
    "P -> 'in'\n",
    "\"\"\")\n",
    "parser = nltk.ChartParser(my_grammar)\n",
    "\n",
    "# Parse a sentence\n",
    "sentence = word_tokenize(\"I shot an elephant in my pajamas\")\n",
    "for tree in parser.parse(sentence):\n",
    "    print(tree)"
   ]
  },
  {
   "cell_type": "code",
   "execution_count": null,
   "metadata": {},
   "outputs": [],
   "source": [
    "# for tree in parser.parse(sentence):\n",
    "#     tree.draw()"
   ]
  },
  {
   "cell_type": "code",
   "execution_count": 34,
   "metadata": {},
   "outputs": [
    {
     "name": "stdout",
     "output_type": "stream",
     "text": [
      "[nltk_data] Downloading package maxent_ne_chunker to\n",
      "[nltk_data]     /root/nltk_data...\n",
      "[nltk_data]   Unzipping chunkers/maxent_ne_chunker.zip.\n"
     ]
    },
    {
     "data": {
      "text/plain": [
       "True"
      ]
     },
     "execution_count": 34,
     "metadata": {},
     "output_type": "execute_result"
    }
   ],
   "source": [
    "# nltk.download('maxent_ne_chunker')"
   ]
  },
  {
   "cell_type": "code",
   "execution_count": 36,
   "metadata": {},
   "outputs": [
    {
     "name": "stdout",
     "output_type": "stream",
     "text": [
      "[nltk_data] Downloading package words to /root/nltk_data...\n",
      "[nltk_data]   Unzipping corpora/words.zip.\n"
     ]
    },
    {
     "data": {
      "text/plain": [
       "True"
      ]
     },
     "execution_count": 36,
     "metadata": {},
     "output_type": "execute_result"
    }
   ],
   "source": [
    "# nltk.download('words')"
   ]
  },
  {
   "cell_type": "code",
   "execution_count": 42,
   "metadata": {},
   "outputs": [
    {
     "name": "stdout",
     "output_type": "stream",
     "text": [
      "(S\n",
      "  (PERSON Antonio/NNP)\n",
      "  joined/VBD\n",
      "  (ORGANIZATION Udacity/NNP Inc./NNP)\n",
      "  in/IN\n",
      "  (GPE California/NNP))\n"
     ]
    }
   ],
   "source": [
    "from nltk import ne_chunk\n",
    "\n",
    "print(ne_chunk(pos_tags))\n"
   ]
  },
  {
   "cell_type": "markdown",
   "metadata": {},
   "source": [
    "## Stemming & Lemmatization\n",
    "\n",
    "### Stemming"
   ]
  },
  {
   "cell_type": "code",
   "execution_count": 43,
   "metadata": {},
   "outputs": [
    {
     "name": "stdout",
     "output_type": "stream",
     "text": [
      "['first', 'time', 'see', 'second', 'renaiss', 'may', 'look', 'bore', 'look', 'least', 'twice', 'definit', 'watch', 'part', '2', 'chang', 'view', 'matrix', 'human', 'peopl', 'one', 'start', 'war', 'ai', 'bad', 'thing']\n"
     ]
    }
   ],
   "source": [
    "from nltk.stem.porter import PorterStemmer\n",
    "\n",
    "# Reduce words to their stems\n",
    "stemmed = [PorterStemmer().stem(w) for w in words]\n",
    "print(stemmed)"
   ]
  },
  {
   "cell_type": "markdown",
   "metadata": {},
   "source": [
    "### Lemmatization"
   ]
  },
  {
   "cell_type": "code",
   "execution_count": 44,
   "metadata": {},
   "outputs": [
    {
     "name": "stdout",
     "output_type": "stream",
     "text": [
      "['first', 'time', 'see', 'second', 'renaissance', 'may', 'look', 'boring', 'look', 'least', 'twice', 'definitely', 'watch', 'part', '2', 'change', 'view', 'matrix', 'human', 'people', 'one', 'started', 'war', 'ai', 'bad', 'thing']\n"
     ]
    }
   ],
   "source": [
    "from nltk.stem.wordnet import WordNetLemmatizer\n",
    "\n",
    "# Reduce words to their root form\n",
    "lemmed = [WordNetLemmatizer().lemmatize(w) for w in words]\n",
    "print(lemmed)"
   ]
  },
  {
   "cell_type": "code",
   "execution_count": 45,
   "metadata": {},
   "outputs": [
    {
     "name": "stdout",
     "output_type": "stream",
     "text": [
      "['first', 'time', 'see', 'second', 'renaissance', 'may', 'look', 'bore', 'look', 'least', 'twice', 'definitely', 'watch', 'part', '2', 'change', 'view', 'matrix', 'human', 'people', 'one', 'start', 'war', 'ai', 'bad', 'thing']\n"
     ]
    }
   ],
   "source": [
    "# Lemmatize verbs by specifying pos\n",
    "lemmed = [WordNetLemmatizer().lemmatize(w, pos='v') for w in lemmed]\n",
    "print(lemmed)"
   ]
  }
 ],
 "metadata": {
  "kernelspec": {
   "display_name": "Python 3",
   "language": "python",
   "name": "python3"
  },
  "language_info": {
   "codemirror_mode": {
    "name": "ipython",
    "version": 3
   },
   "file_extension": ".py",
   "mimetype": "text/x-python",
   "name": "python",
   "nbconvert_exporter": "python",
   "pygments_lexer": "ipython3",
   "version": "3.6.3"
  }
 },
 "nbformat": 4,
 "nbformat_minor": 2
}
